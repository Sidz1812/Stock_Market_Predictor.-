{
  "nbformat": 4,
  "nbformat_minor": 0,
  "metadata": {
    "colab": {
      "name": "Regression_.ipynb",
      "provenance": []
    },
    "kernelspec": {
      "name": "python3",
      "display_name": "Python 3"
    },
    "language_info": {
      "name": "python"
    }
  },
  "cells": [
    {
      "cell_type": "code",
      "metadata": {
        "id": "rP_VR3gZUUYj"
      },
      "source": [
        "import pandas as pd\n",
        "import numpy as np\n",
        "import matplotlib.pyplot as plt\n",
        "from sklearn.model_selection import train_test_split\n",
        "from sklearn import preprocessing\n",
        "\n",
        "import os\n",
        "import pprint\n",
        "\n",
        "import tensorflow as tf\n",
        "\n",
        "from keras.models import Sequential\n",
        "from keras.layers import Dense\n",
        "from keras.layers import LSTM\n",
        "from keras.layers import Dropout\n",
        "from keras.layers import RNN\n",
        "from keras.layers import SimpleRNN\n",
        "from keras.layers import Bidirectional\n",
        "from keras.layers import Conv1D,Flatten,MaxPooling1D,Bidirectional,LSTM,Dropout,TimeDistributed,MaxPool2D\n",
        "from keras.layers import Dense,GlobalAveragePooling2D\n",
        "from keras.callbacks import EarlyStopping, ReduceLROnPlateau, ModelCheckpoint, TensorBoard"
      ],
      "execution_count": null,
      "outputs": []
    },
    {
      "cell_type": "markdown",
      "metadata": {
        "id": "QnrD3FKdDJh-"
      },
      "source": [
        "#(Preprocessing and Normalization) , (Naive Baseline)"
      ]
    },
    {
      "cell_type": "code",
      "metadata": {
        "id": "-DeOqN-2Vuwc"
      },
      "source": [
        "dataset = pd.read_csv('Processed_S&P.csv')\n",
        "'''\n",
        "dataset = dataset[[\"Date\", \"Close\", \"Volume\", \\\n",
        "             \"mom\", \"mom1\", \"mom2\", \"mom3\",\\\n",
        "            \"ROC_5\",\"ROC_10\",\"ROC_15\",\"ROC_20\",\\\n",
        "            \"EMA_10\",\"EMA_20\",\"EMA_50\"]]\n",
        "            '''\n",
        "\n",
        "dataset = dataset[['Date','Close']]"
      ],
      "execution_count": null,
      "outputs": []
    },
    {
      "cell_type": "code",
      "metadata": {
        "id": "f_e3KIRnV_Su"
      },
      "source": [
        "dataset['Date'] = pd.to_datetime(dataset['Date'])\n",
        "dataset = dataset.set_index(dataset['Date'])\n",
        "dataset = dataset.sort_index()"
      ],
      "execution_count": null,
      "outputs": []
    },
    {
      "cell_type": "code",
      "metadata": {
        "colab": {
          "base_uri": "https://localhost:8080/"
        },
        "id": "3W-BIgGoV_tc",
        "outputId": "89e05ab4-83cf-4038-9414-db3532d565e3"
      },
      "source": [
        "train = dataset['2009-12-31':'2016-05-06']\n",
        "test  = dataset['2016-05-06':]\n",
        "print('Train Dataset:',train.shape)\n",
        "print('Test Dataset:',test.shape)"
      ],
      "execution_count": null,
      "outputs": [
        {
          "output_type": "stream",
          "name": "stdout",
          "text": [
            "Train Dataset: (1598, 2)\n",
            "Test Dataset: (387, 2)\n"
          ]
        }
      ]
    },
    {
      "cell_type": "code",
      "metadata": {
        "id": "OAkaa5X-WGd1"
      },
      "source": [
        "train = train.dropna(axis = 0)\n",
        "test  = test.dropna(axis = 0)"
      ],
      "execution_count": null,
      "outputs": []
    },
    {
      "cell_type": "code",
      "metadata": {
        "id": "MspaZVX7DR_E"
      },
      "source": [
        "def Moving_Average(dataset, period = 5, column = 'Close'):\n",
        "  return dataset[column].rolling(window = period).mean()"
      ],
      "execution_count": null,
      "outputs": []
    },
    {
      "cell_type": "code",
      "metadata": {
        "colab": {
          "base_uri": "https://localhost:8080/",
          "height": 281
        },
        "id": "ybdlK8WzDR12",
        "outputId": "0ecc407e-a940-4ec3-9109-1fdf61317923"
      },
      "source": [
        "plt.title(\"Close_Price\")\n",
        "plt.plot(test['Close'], label = 'Stock Price')\n",
        "plt.plot(Moving_Average(test), label = 'Moving Average')\n",
        "plt.legend()\n",
        "plt.show()"
      ],
      "execution_count": null,
      "outputs": [
        {
          "output_type": "display_data",
          "data": {
            "image/png": "[encoded data removed]",
            "text/plain": [
              "<Figure size 432x288 with 1 Axes>"
            ]
          },
          "metadata": {
            "needs_background": "light"
          }
        }
      ]
    },
    {
      "cell_type": "code",
      "metadata": {
        "id": "5AQBSur4DyZ_"
      },
      "source": [
        "test['Moving Average'] = Moving_Average(test)"
      ],
      "execution_count": null,
      "outputs": []
    },
    {
      "cell_type": "code",
      "metadata": {
        "id": "GPzYppDqDcEB"
      },
      "source": [
        "#test"
      ],
      "execution_count": null,
      "outputs": []
    },
    {
      "cell_type": "code",
      "metadata": {
        "colab": {
          "base_uri": "https://localhost:8080/"
        },
        "id": "XBD5Q-S4Da_f",
        "outputId": "0e1bf467-92fb-44f0-c1e5-226659ddf13d"
      },
      "source": [
        "test['Moving Average'] = Moving_Average(test)\n",
        "result = test['Moving Average'].mean()\n",
        "result"
      ],
      "execution_count": null,
      "outputs": [
        {
          "output_type": "execute_result",
          "data": {
            "text/plain": [
              "2305.7485937958186"
            ]
          },
          "metadata": {},
          "execution_count": 10
        }
      ]
    },
    {
      "cell_type": "code",
      "metadata": {
        "id": "Bzbf06-1EB7j"
      },
      "source": [
        "test['Moving Average'] = test['Moving Average'].fillna(result)"
      ],
      "execution_count": null,
      "outputs": []
    },
    {
      "cell_type": "code",
      "metadata": {
        "id": "VyIpTbVdEB4z"
      },
      "source": [
        "stock_price = test.iloc[:, 1:2]\n",
        "Naive_pred = test.iloc[:, 2:3]"
      ],
      "execution_count": null,
      "outputs": []
    },
    {
      "cell_type": "code",
      "metadata": {
        "colab": {
          "base_uri": "https://localhost:8080/"
        },
        "id": "I7PynnmaEBzl",
        "outputId": "9d18d556-d5d7-4cf7-cfbb-4353e18402b7"
      },
      "source": [
        "from sklearn.metrics import mean_squared_error\n",
        "\n",
        "score_naive = mean_squared_error(Naive_pred, stock_price)\n",
        "print(\"MSE with Naive_Baseline: \",score_naive)"
      ],
      "execution_count": null,
      "outputs": [
        {
          "output_type": "stream",
          "name": "stdout",
          "text": [
            "MSE with Naive_Baseline:  751.9646590439697\n"
          ]
        }
      ]
    },
    {
      "cell_type": "markdown",
      "metadata": {
        "id": "ZJ17Z60bE3Sy"
      },
      "source": [
        "# More Preprocessing"
      ]
    },
    {
      "cell_type": "code",
      "metadata": {
        "id": "TDIlP-bkWIWW"
      },
      "source": [
        "training_set = train.iloc[:, 1:2].values\n",
        "test_set = test.iloc[:, 1:2].values"
      ],
      "execution_count": null,
      "outputs": []
    },
    {
      "cell_type": "code",
      "metadata": {
        "colab": {
          "base_uri": "https://localhost:8080/"
        },
        "id": "71xVDa0MWNrS",
        "outputId": "766dceb1-37da-4956-c537-1a8eec577269"
      },
      "source": [
        "training_set.size"
      ],
      "execution_count": null,
      "outputs": [
        {
          "output_type": "execute_result",
          "data": {
            "text/plain": [
              "1598"
            ]
          },
          "metadata": {},
          "execution_count": 15
        }
      ]
    },
    {
      "cell_type": "code",
      "metadata": {
        "id": "ivnno5M9WP4w"
      },
      "source": [
        "from sklearn.preprocessing import MinMaxScaler\n",
        "sc = MinMaxScaler(feature_range = (0, 1))\n",
        "training_set_scaled = sc.fit_transform(training_set)"
      ],
      "execution_count": null,
      "outputs": []
    },
    {
      "cell_type": "code",
      "metadata": {
        "id": "rlnDnWVYWWrX"
      },
      "source": [
        "X_train = []\n",
        "y_train = []\n",
        "for i in range(50, 1598):\n",
        "    X_train.append(training_set_scaled[i-50:i, 0])\n",
        "    y_train.append(training_set_scaled[i, 0])\n",
        "X_train, y_train = np.array(X_train), np.array(y_train)"
      ],
      "execution_count": null,
      "outputs": []
    },
    {
      "cell_type": "code",
      "metadata": {
        "id": "xhfqL2JkWhWs"
      },
      "source": [
        "X_train = np.reshape(X_train, (X_train.shape[0], X_train.shape[1], 1))"
      ],
      "execution_count": null,
      "outputs": []
    },
    {
      "cell_type": "code",
      "metadata": {
        "colab": {
          "base_uri": "https://localhost:8080/"
        },
        "id": "QOV7RLeVWhmb",
        "outputId": "4de7b9f3-ddfb-4a09-9fb2-fff352e697a1"
      },
      "source": [
        "X_train.shape"
      ],
      "execution_count": null,
      "outputs": [
        {
          "output_type": "execute_result",
          "data": {
            "text/plain": [
              "(1548, 50, 1)"
            ]
          },
          "metadata": {},
          "execution_count": 19
        }
      ]
    },
    {
      "cell_type": "code",
      "metadata": {
        "id": "RRkrh8LKaqz5"
      },
      "source": [
        "test = test.drop(['Date'], axis=1)\n",
        "train = train.drop(['Date'], axis=1)"
      ],
      "execution_count": null,
      "outputs": []
    },
    {
      "cell_type": "code",
      "metadata": {
        "id": "joTzLo3Kavxs"
      },
      "source": [
        "dataset_total = pd.concat((train['Close'], test['Close']), axis = 0)"
      ],
      "execution_count": null,
      "outputs": []
    },
    {
      "cell_type": "code",
      "metadata": {
        "id": "Byg8MpDMa3bD"
      },
      "source": [
        "inputs = dataset_total[len(dataset_total) - len(test) - 50:].values\n",
        "inputs = inputs.reshape(-1,1)\n",
        "inputs = sc.transform(inputs)\n",
        "X_test = []\n",
        "y_test = []\n",
        "for i in range(50, 437):\n",
        "    X_test.append(inputs[i-50:i, 0])\n",
        "    y_test.append(inputs[i, 0])\n",
        "X_test = np.array(X_test)\n",
        "y_test = np.array(y_test)\n",
        "X_test = np.reshape(X_test, (X_test.shape[0], X_test.shape[1], 1))"
      ],
      "execution_count": null,
      "outputs": []
    },
    {
      "cell_type": "markdown",
      "metadata": {
        "id": "rJYNciRxLxFT"
      },
      "source": [
        "# Simple Model"
      ]
    },
    {
      "cell_type": "code",
      "metadata": {
        "id": "3PGpFQ-jWjAT"
      },
      "source": [
        "regressor_A = Sequential()"
      ],
      "execution_count": null,
      "outputs": []
    },
    {
      "cell_type": "code",
      "metadata": {
        "id": "n1Z0gj-hcSO8"
      },
      "source": [
        "regressor_A.add(LSTM(units = 50, return_sequences = True, input_shape = (X_train.shape[1], 1)))\n",
        "regressor_A.add(Dropout(0.2))\n",
        "regressor_A.add(LSTM(units = 50, return_sequences = True))\n",
        "regressor_A.add(Dropout(0.2))\n",
        "regressor_A.add(LSTM(units = 50, return_sequences = True))\n",
        "regressor_A.add(Dropout(0.2))\n",
        "regressor_A.add(LSTM(units = 50))\n",
        "regressor_A.add(Dropout(0.2))\n",
        "regressor_A.add(Dense(units = 1))\n",
        "regressor_A.compile(optimizer = 'adam', loss = 'mean_squared_error', metrics= 'mean_squared_error')"
      ],
      "execution_count": null,
      "outputs": []
    },
    {
      "cell_type": "code",
      "metadata": {
        "colab": {
          "base_uri": "https://localhost:8080/"
        },
        "id": "HEN_AsQYcdNG",
        "outputId": "50ed9043-7790-469a-ccbe-5fcf26be8a33"
      },
      "source": [
        "history = regressor_A.fit(X_train, y_train, validation_data=(X_test, y_test), epochs = 100, batch_size = 32)"
      ],
      "execution_count": null,
      "outputs": [
        {
          "output_type": "stream",
          "name": "stdout",
          "text": [
            "Epoch 1/100\n",
            "49/49 [==============================] - 12s 122ms/step - loss: 0.0413 - mean_squared_error: 0.0413 - val_loss: 0.0132 - val_mean_squared_error: 0.0132\n",
            "Epoch 2/100\n",
            "49/49 [==============================] - 5s 94ms/step - loss: 0.0056 - mean_squared_error: 0.0056 - val_loss: 0.0066 - val_mean_squared_error: 0.0066\n",
            "Epoch 3/100\n",
            "49/49 [==============================] - 5s 93ms/step - loss: 0.0050 - mean_squared_error: 0.0050 - val_loss: 0.0057 - val_mean_squared_error: 0.0057\n",
            "Epoch 4/100\n",
            "49/49 [==============================] - 5s 93ms/step - loss: 0.0050 - mean_squared_error: 0.0050 - val_loss: 0.0077 - val_mean_squared_error: 0.0077\n",
            "Epoch 5/100\n",
            "49/49 [==============================] - 5s 92ms/step - loss: 0.0044 - mean_squared_error: 0.0044 - val_loss: 0.0138 - val_mean_squared_error: 0.0138\n",
            "Epoch 6/100\n",
            "49/49 [==============================] - 5s 93ms/step - loss: 0.0051 - mean_squared_error: 0.0051 - val_loss: 0.0049 - val_mean_squared_error: 0.0049\n",
            "Epoch 7/100\n",
            "49/49 [==============================] - 5s 93ms/step - loss: 0.0051 - mean_squared_error: 0.0051 - val_loss: 0.0122 - val_mean_squared_error: 0.0122\n",
            "Epoch 8/100\n",
            "49/49 [==============================] - 5s 93ms/step - loss: 0.0039 - mean_squared_error: 0.0039 - val_loss: 0.0080 - val_mean_squared_error: 0.0080\n",
            "Epoch 9/100\n",
            "49/49 [==============================] - 5s 94ms/step - loss: 0.0040 - mean_squared_error: 0.0040 - val_loss: 0.0185 - val_mean_squared_error: 0.0185\n",
            "Epoch 10/100\n",
            "49/49 [==============================] - 5s 94ms/step - loss: 0.0041 - mean_squared_error: 0.0041 - val_loss: 0.0040 - val_mean_squared_error: 0.0040\n",
            "Epoch 11/100\n",
            "49/49 [==============================] - 5s 94ms/step - loss: 0.0040 - mean_squared_error: 0.0040 - val_loss: 0.0037 - val_mean_squared_error: 0.0037\n",
            "Epoch 12/100\n",
            "49/49 [==============================] - 5s 93ms/step - loss: 0.0038 - mean_squared_error: 0.0038 - val_loss: 0.0075 - val_mean_squared_error: 0.0075\n",
            "Epoch 13/100\n",
            "49/49 [==============================] - 5s 94ms/step - loss: 0.0041 - mean_squared_error: 0.0041 - val_loss: 0.0129 - val_mean_squared_error: 0.0129\n",
            "Epoch 14/100\n",
            "49/49 [==============================] - 5s 93ms/step - loss: 0.0042 - mean_squared_error: 0.0042 - val_loss: 0.0029 - val_mean_squared_error: 0.0029\n",
            "Epoch 15/100\n",
            "49/49 [==============================] - 5s 94ms/step - loss: 0.0038 - mean_squared_error: 0.0038 - val_loss: 0.0062 - val_mean_squared_error: 0.0062\n",
            "Epoch 16/100\n",
            "49/49 [==============================] - 5s 96ms/step - loss: 0.0037 - mean_squared_error: 0.0037 - val_loss: 0.0078 - val_mean_squared_error: 0.0078\n",
            "Epoch 17/100\n",
            "49/49 [==============================] - 5s 95ms/step - loss: 0.0033 - mean_squared_error: 0.0033 - val_loss: 0.0058 - val_mean_squared_error: 0.0058\n",
            "Epoch 18/100\n",
            "49/49 [==============================] - 5s 96ms/step - loss: 0.0037 - mean_squared_error: 0.0037 - val_loss: 0.0161 - val_mean_squared_error: 0.0161\n",
            "Epoch 19/100\n",
            "49/49 [==============================] - 5s 97ms/step - loss: 0.0033 - mean_squared_error: 0.0033 - val_loss: 0.0074 - val_mean_squared_error: 0.0074\n",
            "Epoch 20/100\n",
            "49/49 [==============================] - 5s 97ms/step - loss: 0.0038 - mean_squared_error: 0.0038 - val_loss: 0.0083 - val_mean_squared_error: 0.0083\n",
            "Epoch 21/100\n",
            "49/49 [==============================] - 5s 98ms/step - loss: 0.0033 - mean_squared_error: 0.0033 - val_loss: 0.0088 - val_mean_squared_error: 0.0088\n",
            "Epoch 22/100\n",
            "49/49 [==============================] - 5s 96ms/step - loss: 0.0031 - mean_squared_error: 0.0031 - val_loss: 0.0088 - val_mean_squared_error: 0.0088\n",
            "Epoch 23/100\n",
            "49/49 [==============================] - 5s 97ms/step - loss: 0.0034 - mean_squared_error: 0.0034 - val_loss: 0.0106 - val_mean_squared_error: 0.0106\n",
            "Epoch 24/100\n",
            "49/49 [==============================] - 5s 96ms/step - loss: 0.0032 - mean_squared_error: 0.0032 - val_loss: 0.0078 - val_mean_squared_error: 0.0078\n",
            "Epoch 25/100\n",
            "49/49 [==============================] - 5s 97ms/step - loss: 0.0033 - mean_squared_error: 0.0033 - val_loss: 0.0036 - val_mean_squared_error: 0.0036\n",
            "Epoch 26/100\n",
            "49/49 [==============================] - 5s 97ms/step - loss: 0.0043 - mean_squared_error: 0.0043 - val_loss: 0.0073 - val_mean_squared_error: 0.0073\n",
            "Epoch 27/100\n",
            "49/49 [==============================] - 5s 96ms/step - loss: 0.0031 - mean_squared_error: 0.0031 - val_loss: 0.0063 - val_mean_squared_error: 0.0063\n",
            "Epoch 28/100\n",
            "49/49 [==============================] - 5s 94ms/step - loss: 0.0027 - mean_squared_error: 0.0027 - val_loss: 0.0099 - val_mean_squared_error: 0.0099\n",
            "Epoch 29/100\n",
            "49/49 [==============================] - 5s 94ms/step - loss: 0.0029 - mean_squared_error: 0.0029 - val_loss: 0.0190 - val_mean_squared_error: 0.0190\n",
            "Epoch 30/100\n",
            "49/49 [==============================] - 5s 93ms/step - loss: 0.0028 - mean_squared_error: 0.0028 - val_loss: 0.0139 - val_mean_squared_error: 0.0139\n",
            "Epoch 31/100\n",
            "49/49 [==============================] - 5s 95ms/step - loss: 0.0027 - mean_squared_error: 0.0027 - val_loss: 0.0045 - val_mean_squared_error: 0.0045\n",
            "Epoch 32/100\n",
            "49/49 [==============================] - 5s 96ms/step - loss: 0.0030 - mean_squared_error: 0.0030 - val_loss: 0.0171 - val_mean_squared_error: 0.0171\n",
            "Epoch 33/100\n",
            "49/49 [==============================] - 5s 94ms/step - loss: 0.0028 - mean_squared_error: 0.0028 - val_loss: 0.0145 - val_mean_squared_error: 0.0145\n",
            "Epoch 34/100\n",
            "49/49 [==============================] - 5s 95ms/step - loss: 0.0026 - mean_squared_error: 0.0026 - val_loss: 0.0105 - val_mean_squared_error: 0.0105\n",
            "Epoch 35/100\n",
            "49/49 [==============================] - 5s 96ms/step - loss: 0.0028 - mean_squared_error: 0.0028 - val_loss: 0.0054 - val_mean_squared_error: 0.0054\n",
            "Epoch 36/100\n",
            "49/49 [==============================] - 5s 94ms/step - loss: 0.0025 - mean_squared_error: 0.0025 - val_loss: 0.0045 - val_mean_squared_error: 0.0045\n",
            "Epoch 37/100\n",
            "49/49 [==============================] - 5s 95ms/step - loss: 0.0026 - mean_squared_error: 0.0026 - val_loss: 0.0063 - val_mean_squared_error: 0.0063\n",
            "Epoch 38/100\n",
            "49/49 [==============================] - 5s 95ms/step - loss: 0.0028 - mean_squared_error: 0.0028 - val_loss: 0.0056 - val_mean_squared_error: 0.0056\n",
            "Epoch 39/100\n",
            "49/49 [==============================] - 5s 95ms/step - loss: 0.0027 - mean_squared_error: 0.0027 - val_loss: 0.0053 - val_mean_squared_error: 0.0053\n",
            "Epoch 40/100\n",
            "49/49 [==============================] - 5s 94ms/step - loss: 0.0026 - mean_squared_error: 0.0026 - val_loss: 0.0129 - val_mean_squared_error: 0.0129\n",
            "Epoch 41/100\n",
            "49/49 [==============================] - 5s 94ms/step - loss: 0.0027 - mean_squared_error: 0.0027 - val_loss: 0.0050 - val_mean_squared_error: 0.0050\n",
            "Epoch 42/100\n",
            "49/49 [==============================] - 5s 95ms/step - loss: 0.0026 - mean_squared_error: 0.0026 - val_loss: 0.0161 - val_mean_squared_error: 0.0161\n",
            "Epoch 43/100\n",
            "49/49 [==============================] - 5s 95ms/step - loss: 0.0025 - mean_squared_error: 0.0025 - val_loss: 0.0047 - val_mean_squared_error: 0.0047\n",
            "Epoch 44/100\n",
            "49/49 [==============================] - 5s 94ms/step - loss: 0.0024 - mean_squared_error: 0.0024 - val_loss: 0.0057 - val_mean_squared_error: 0.0057\n",
            "Epoch 45/100\n",
            "49/49 [==============================] - 5s 94ms/step - loss: 0.0022 - mean_squared_error: 0.0022 - val_loss: 0.0115 - val_mean_squared_error: 0.0115\n",
            "Epoch 46/100\n",
            "49/49 [==============================] - 5s 95ms/step - loss: 0.0024 - mean_squared_error: 0.0024 - val_loss: 0.0062 - val_mean_squared_error: 0.0062\n",
            "Epoch 47/100\n",
            "49/49 [==============================] - 5s 95ms/step - loss: 0.0023 - mean_squared_error: 0.0023 - val_loss: 0.0163 - val_mean_squared_error: 0.0163\n",
            "Epoch 48/100\n",
            "49/49 [==============================] - 5s 95ms/step - loss: 0.0021 - mean_squared_error: 0.0021 - val_loss: 0.0087 - val_mean_squared_error: 0.0087\n",
            "Epoch 49/100\n",
            "49/49 [==============================] - 5s 94ms/step - loss: 0.0022 - mean_squared_error: 0.0022 - val_loss: 0.0125 - val_mean_squared_error: 0.0125\n",
            "Epoch 50/100\n",
            "49/49 [==============================] - 5s 95ms/step - loss: 0.0024 - mean_squared_error: 0.0024 - val_loss: 0.0113 - val_mean_squared_error: 0.0113\n",
            "Epoch 51/100\n",
            "49/49 [==============================] - 5s 95ms/step - loss: 0.0021 - mean_squared_error: 0.0021 - val_loss: 0.0146 - val_mean_squared_error: 0.0146\n",
            "Epoch 52/100\n",
            "49/49 [==============================] - 5s 95ms/step - loss: 0.0021 - mean_squared_error: 0.0021 - val_loss: 0.0070 - val_mean_squared_error: 0.0070\n",
            "Epoch 53/100\n",
            "49/49 [==============================] - 5s 96ms/step - loss: 0.0022 - mean_squared_error: 0.0022 - val_loss: 0.0124 - val_mean_squared_error: 0.0124\n",
            "Epoch 54/100\n",
            "49/49 [==============================] - 5s 96ms/step - loss: 0.0026 - mean_squared_error: 0.0026 - val_loss: 0.0072 - val_mean_squared_error: 0.0072\n",
            "Epoch 55/100\n",
            "49/49 [==============================] - 5s 94ms/step - loss: 0.0022 - mean_squared_error: 0.0022 - val_loss: 0.0170 - val_mean_squared_error: 0.0170\n",
            "Epoch 56/100\n",
            "49/49 [==============================] - 5s 94ms/step - loss: 0.0020 - mean_squared_error: 0.0020 - val_loss: 0.0064 - val_mean_squared_error: 0.0064\n",
            "Epoch 57/100\n",
            "49/49 [==============================] - 5s 94ms/step - loss: 0.0021 - mean_squared_error: 0.0021 - val_loss: 0.0079 - val_mean_squared_error: 0.0079\n",
            "Epoch 58/100\n",
            "49/49 [==============================] - 5s 95ms/step - loss: 0.0019 - mean_squared_error: 0.0019 - val_loss: 0.0072 - val_mean_squared_error: 0.0072\n",
            "Epoch 59/100\n",
            "49/49 [==============================] - 5s 94ms/step - loss: 0.0019 - mean_squared_error: 0.0019 - val_loss: 0.0119 - val_mean_squared_error: 0.0119\n",
            "Epoch 60/100\n",
            "49/49 [==============================] - 5s 94ms/step - loss: 0.0021 - mean_squared_error: 0.0021 - val_loss: 0.0112 - val_mean_squared_error: 0.0112\n",
            "Epoch 61/100\n",
            "49/49 [==============================] - 5s 94ms/step - loss: 0.0019 - mean_squared_error: 0.0019 - val_loss: 0.0065 - val_mean_squared_error: 0.0065\n",
            "Epoch 62/100\n",
            "49/49 [==============================] - 5s 95ms/step - loss: 0.0019 - mean_squared_error: 0.0019 - val_loss: 0.0099 - val_mean_squared_error: 0.0099\n",
            "Epoch 63/100\n",
            "49/49 [==============================] - 5s 94ms/step - loss: 0.0019 - mean_squared_error: 0.0019 - val_loss: 0.0042 - val_mean_squared_error: 0.0042\n",
            "Epoch 64/100\n",
            "49/49 [==============================] - 5s 95ms/step - loss: 0.0018 - mean_squared_error: 0.0018 - val_loss: 0.0068 - val_mean_squared_error: 0.0068\n",
            "Epoch 65/100\n",
            "49/49 [==============================] - 5s 95ms/step - loss: 0.0020 - mean_squared_error: 0.0020 - val_loss: 0.0061 - val_mean_squared_error: 0.0061\n",
            "Epoch 66/100\n",
            "49/49 [==============================] - 5s 95ms/step - loss: 0.0019 - mean_squared_error: 0.0019 - val_loss: 0.0091 - val_mean_squared_error: 0.0091\n",
            "Epoch 67/100\n",
            "49/49 [==============================] - 5s 96ms/step - loss: 0.0018 - mean_squared_error: 0.0018 - val_loss: 0.0055 - val_mean_squared_error: 0.0055\n",
            "Epoch 68/100\n",
            "49/49 [==============================] - 5s 94ms/step - loss: 0.0020 - mean_squared_error: 0.0020 - val_loss: 0.0058 - val_mean_squared_error: 0.0058\n",
            "Epoch 69/100\n",
            "49/49 [==============================] - 5s 94ms/step - loss: 0.0018 - mean_squared_error: 0.0018 - val_loss: 0.0039 - val_mean_squared_error: 0.0039\n",
            "Epoch 70/100\n",
            "49/49 [==============================] - 5s 96ms/step - loss: 0.0018 - mean_squared_error: 0.0018 - val_loss: 0.0050 - val_mean_squared_error: 0.0050\n",
            "Epoch 71/100\n",
            "49/49 [==============================] - 5s 95ms/step - loss: 0.0016 - mean_squared_error: 0.0016 - val_loss: 0.0044 - val_mean_squared_error: 0.0044\n",
            "Epoch 72/100\n",
            "49/49 [==============================] - 5s 96ms/step - loss: 0.0016 - mean_squared_error: 0.0016 - val_loss: 0.0142 - val_mean_squared_error: 0.0142\n",
            "Epoch 73/100\n",
            "49/49 [==============================] - 5s 95ms/step - loss: 0.0017 - mean_squared_error: 0.0017 - val_loss: 0.0068 - val_mean_squared_error: 0.0068\n",
            "Epoch 74/100\n",
            "49/49 [==============================] - 5s 97ms/step - loss: 0.0017 - mean_squared_error: 0.0017 - val_loss: 0.0038 - val_mean_squared_error: 0.0038\n",
            "Epoch 75/100\n",
            "49/49 [==============================] - 5s 94ms/step - loss: 0.0018 - mean_squared_error: 0.0018 - val_loss: 0.0046 - val_mean_squared_error: 0.0046\n",
            "Epoch 76/100\n",
            "49/49 [==============================] - 5s 95ms/step - loss: 0.0016 - mean_squared_error: 0.0016 - val_loss: 0.0126 - val_mean_squared_error: 0.0126\n",
            "Epoch 77/100\n",
            "49/49 [==============================] - 5s 95ms/step - loss: 0.0016 - mean_squared_error: 0.0016 - val_loss: 0.0073 - val_mean_squared_error: 0.0073\n",
            "Epoch 78/100\n",
            "49/49 [==============================] - 5s 96ms/step - loss: 0.0016 - mean_squared_error: 0.0016 - val_loss: 0.0084 - val_mean_squared_error: 0.0084\n",
            "Epoch 79/100\n",
            "49/49 [==============================] - 5s 95ms/step - loss: 0.0016 - mean_squared_error: 0.0016 - val_loss: 0.0086 - val_mean_squared_error: 0.0086\n",
            "Epoch 80/100\n",
            "49/49 [==============================] - 5s 96ms/step - loss: 0.0017 - mean_squared_error: 0.0017 - val_loss: 0.0136 - val_mean_squared_error: 0.0136\n",
            "Epoch 81/100\n",
            "49/49 [==============================] - 5s 96ms/step - loss: 0.0015 - mean_squared_error: 0.0015 - val_loss: 0.0070 - val_mean_squared_error: 0.0070\n",
            "Epoch 82/100\n",
            "49/49 [==============================] - 5s 95ms/step - loss: 0.0017 - mean_squared_error: 0.0017 - val_loss: 0.0175 - val_mean_squared_error: 0.0175\n",
            "Epoch 83/100\n",
            "49/49 [==============================] - 5s 96ms/step - loss: 0.0016 - mean_squared_error: 0.0016 - val_loss: 0.0122 - val_mean_squared_error: 0.0122\n",
            "Epoch 84/100\n",
            "49/49 [==============================] - 5s 96ms/step - loss: 0.0017 - mean_squared_error: 0.0017 - val_loss: 0.0078 - val_mean_squared_error: 0.0078\n",
            "Epoch 85/100\n",
            "49/49 [==============================] - 5s 97ms/step - loss: 0.0016 - mean_squared_error: 0.0016 - val_loss: 0.0039 - val_mean_squared_error: 0.0039\n",
            "Epoch 86/100\n",
            "49/49 [==============================] - 5s 98ms/step - loss: 0.0016 - mean_squared_error: 0.0016 - val_loss: 0.0055 - val_mean_squared_error: 0.0055\n",
            "Epoch 87/100\n",
            "49/49 [==============================] - 5s 96ms/step - loss: 0.0016 - mean_squared_error: 0.0016 - val_loss: 0.0079 - val_mean_squared_error: 0.0079\n",
            "Epoch 88/100\n",
            "49/49 [==============================] - 5s 97ms/step - loss: 0.0014 - mean_squared_error: 0.0014 - val_loss: 0.0099 - val_mean_squared_error: 0.0099\n",
            "Epoch 89/100\n",
            "49/49 [==============================] - 5s 97ms/step - loss: 0.0015 - mean_squared_error: 0.0015 - val_loss: 0.0049 - val_mean_squared_error: 0.0049\n",
            "Epoch 90/100\n",
            "49/49 [==============================] - 5s 96ms/step - loss: 0.0016 - mean_squared_error: 0.0016 - val_loss: 0.0053 - val_mean_squared_error: 0.0053\n",
            "Epoch 91/100\n",
            "49/49 [==============================] - 5s 97ms/step - loss: 0.0015 - mean_squared_error: 0.0015 - val_loss: 0.0115 - val_mean_squared_error: 0.0115\n",
            "Epoch 92/100\n",
            "49/49 [==============================] - 5s 98ms/step - loss: 0.0017 - mean_squared_error: 0.0017 - val_loss: 0.0074 - val_mean_squared_error: 0.0074\n",
            "Epoch 93/100\n",
            "49/49 [==============================] - 5s 97ms/step - loss: 0.0016 - mean_squared_error: 0.0016 - val_loss: 0.0056 - val_mean_squared_error: 0.0056\n",
            "Epoch 94/100\n",
            "49/49 [==============================] - 5s 96ms/step - loss: 0.0016 - mean_squared_error: 0.0016 - val_loss: 0.0094 - val_mean_squared_error: 0.0094\n",
            "Epoch 95/100\n",
            "49/49 [==============================] - 5s 96ms/step - loss: 0.0014 - mean_squared_error: 0.0014 - val_loss: 0.0044 - val_mean_squared_error: 0.0044\n",
            "Epoch 96/100\n",
            "49/49 [==============================] - 5s 96ms/step - loss: 0.0014 - mean_squared_error: 0.0014 - val_loss: 0.0088 - val_mean_squared_error: 0.0088\n",
            "Epoch 97/100\n",
            "49/49 [==============================] - 5s 97ms/step - loss: 0.0014 - mean_squared_error: 0.0014 - val_loss: 0.0036 - val_mean_squared_error: 0.0036\n",
            "Epoch 98/100\n",
            "49/49 [==============================] - 5s 97ms/step - loss: 0.0016 - mean_squared_error: 0.0016 - val_loss: 0.0074 - val_mean_squared_error: 0.0074\n",
            "Epoch 99/100\n",
            "49/49 [==============================] - 5s 98ms/step - loss: 0.0015 - mean_squared_error: 0.0015 - val_loss: 0.0134 - val_mean_squared_error: 0.0134\n",
            "Epoch 100/100\n",
            "49/49 [==============================] - 5s 98ms/step - loss: 0.0017 - mean_squared_error: 0.0017 - val_loss: 0.0098 - val_mean_squared_error: 0.0098\n"
          ]
        }
      ]
    },
    {
      "cell_type": "code",
      "metadata": {
        "colab": {
          "base_uri": "https://localhost:8080/"
        },
        "id": "KvjNcrhjqD0N",
        "outputId": "a8db3286-9b71-4561-f561-194348e1fe4d"
      },
      "source": [
        "print(regressor_A.evaluate(X_test, y_test))"
      ],
      "execution_count": null,
      "outputs": [
        {
          "output_type": "stream",
          "name": "stdout",
          "text": [
            "13/13 [==============================] - 0s 23ms/step - loss: 0.0098 - mean_squared_error: 0.0098\n",
            "[0.009768689051270485, 0.009768689051270485]\n"
          ]
        }
      ]
    },
    {
      "cell_type": "code",
      "metadata": {
        "id": "pSFh_EQwtZs8"
      },
      "source": [
        "predicted_stock_price = regressor_A.predict(X_test)\n",
        "predicted_stock_price = sc.inverse_transform(predicted_stock_price)"
      ],
      "execution_count": null,
      "outputs": []
    },
    {
      "cell_type": "code",
      "metadata": {
        "colab": {
          "base_uri": "https://localhost:8080/",
          "height": 281
        },
        "id": "JL9SH6gLp5pO",
        "outputId": "ee63b0ee-aaa1-428e-b5a3-1d81c9ed0bed"
      },
      "source": [
        "plt.plot(history.history['loss'], color = 'red', label = 'Train Loss')\n",
        "plt.plot(history.history['val_loss'], color = 'blue', label = 'Test Loss')\n",
        "plt.title('Loss')\n",
        "plt.legend()\n",
        "plt.show()"
      ],
      "execution_count": null,
      "outputs": [
        {
          "output_type": "display_data",
          "data": {
            "image/png": "[encoded data removed]",
            "text/plain": [
              "<Figure size 432x288 with 1 Axes>"
            ]
          },
          "metadata": {
            "needs_background": "light"
          }
        }
      ]
    },
    {
      "cell_type": "code",
      "metadata": {
        "colab": {
          "base_uri": "https://localhost:8080/",
          "height": 295
        },
        "id": "qGH2p1kbcdcd",
        "outputId": "e8a18dca-8214-46a6-dd9b-c0687c3c68dc"
      },
      "source": [
        "plt.plot(test_set, color = 'red', label = 'Real_Stock_Price')\n",
        "plt.plot(predicted_stock_price, color = 'blue', label = 'Predicted Stock Price')\n",
        "plt.title('Stock Price Prediction')\n",
        "plt.xlabel('Time')\n",
        "plt.ylabel('Stock Price')\n",
        "plt.legend()\n",
        "plt.show()"
      ],
      "execution_count": null,
      "outputs": [
        {
          "output_type": "display_data",
          "data": {
            "image/png": "[encoded data removed]",
            "text/plain": [
              "<Figure size 432x288 with 1 Axes>"
            ]
          },
          "metadata": {
            "needs_background": "light"
          }
        }
      ]
    },
    {
      "cell_type": "markdown",
      "metadata": {
        "id": "Gj0yjscbLnao"
      },
      "source": [
        "# Advanced model\n",
        "\n"
      ]
    },
    {
      "cell_type": "code",
      "metadata": {
        "id": "UE7O0vHakjHg"
      },
      "source": [
        "dataset = dataset.dropna(axis = 0)"
      ],
      "execution_count": null,
      "outputs": []
    },
    {
      "cell_type": "code",
      "metadata": {
        "colab": {
          "base_uri": "https://localhost:8080/"
        },
        "id": "njxiNaTZkjVR",
        "outputId": "abbf8b02-f688-40f8-f612-e74915956220"
      },
      "source": [
        "dataset.shape"
      ],
      "execution_count": null,
      "outputs": [
        {
          "output_type": "execute_result",
          "data": {
            "text/plain": [
              "(1984, 2)"
            ]
          },
          "metadata": {},
          "execution_count": 31
        }
      ]
    },
    {
      "cell_type": "code",
      "metadata": {
        "id": "4z_rj1qPkwxe"
      },
      "source": [
        "Timestamp = 50\n",
        "X = []\n",
        "Y = []"
      ],
      "execution_count": null,
      "outputs": []
    },
    {
      "cell_type": "code",
      "metadata": {
        "id": "yrVRBogGk3yx"
      },
      "source": [
        "for i in range(0 , len(dataset) - Timestamp -1 , 1):\n",
        "    first = dataset.iloc[i, 1]\n",
        "    temp1 = []\n",
        "    temp2 = []\n",
        "    for j in range(Timestamp):\n",
        "        temp1.append((dataset.iloc[i + j, 1] - first) / first)\n",
        "    temp2.append((dataset.iloc[i +Timestamp, 1] - first) / first)\n",
        "    X.append(np.array(temp1).reshape(50, 1))\n",
        "    Y.append(np.array(temp2).reshape(1,1))"
      ],
      "execution_count": null,
      "outputs": []
    },
    {
      "cell_type": "code",
      "metadata": {
        "colab": {
          "base_uri": "https://localhost:8080/"
        },
        "id": "QoWnzbKYk7Be",
        "outputId": "5430e652-a11c-4048-efd6-7bb1b4b89420"
      },
      "source": [
        "X = np.array(X)\n",
        "Y = np.array(Y)\n",
        "X.shape"
      ],
      "execution_count": null,
      "outputs": [
        {
          "output_type": "execute_result",
          "data": {
            "text/plain": [
              "(1933, 50, 1)"
            ]
          },
          "metadata": {},
          "execution_count": 34
        }
      ]
    },
    {
      "cell_type": "code",
      "metadata": {
        "colab": {
          "base_uri": "https://localhost:8080/"
        },
        "id": "zyZ7eUApzzhr",
        "outputId": "fe12cd39-3407-4be6-bf36-fab4b735d2cf"
      },
      "source": [
        "Y.shape"
      ],
      "execution_count": null,
      "outputs": [
        {
          "output_type": "execute_result",
          "data": {
            "text/plain": [
              "(1933, 1, 1)"
            ]
          },
          "metadata": {},
          "execution_count": 35
        }
      ]
    },
    {
      "cell_type": "code",
      "metadata": {
        "id": "xVjwWSTPmEZc"
      },
      "source": [
        "X_train,X_test,Y_train,Y_test = train_test_split(X, Y, test_size=0.2,shuffle=False)"
      ],
      "execution_count": null,
      "outputs": []
    },
    {
      "cell_type": "code",
      "metadata": {
        "id": "kXi6Is7Nwa-Y"
      },
      "source": [
        "len_t = len(X_train)"
      ],
      "execution_count": null,
      "outputs": []
    },
    {
      "cell_type": "code",
      "metadata": {
        "colab": {
          "base_uri": "https://localhost:8080/"
        },
        "id": "OMPebk9BuJPY",
        "outputId": "308fcdff-2c38-4264-9f2d-eac054d98e44"
      },
      "source": [
        "X_train.shape"
      ],
      "execution_count": null,
      "outputs": [
        {
          "output_type": "execute_result",
          "data": {
            "text/plain": [
              "(1546, 50, 1)"
            ]
          },
          "metadata": {},
          "execution_count": 38
        }
      ]
    },
    {
      "cell_type": "code",
      "metadata": {
        "colab": {
          "base_uri": "https://localhost:8080/"
        },
        "id": "WiRuStbtuLxb",
        "outputId": "2249e4a6-d220-4236-d45a-5104650c10c0"
      },
      "source": [
        "X_test.shape"
      ],
      "execution_count": null,
      "outputs": [
        {
          "output_type": "execute_result",
          "data": {
            "text/plain": [
              "(387, 50, 1)"
            ]
          },
          "metadata": {},
          "execution_count": 39
        }
      ]
    },
    {
      "cell_type": "code",
      "metadata": {
        "id": "Zwlm0uOyvHq0"
      },
      "source": [
        "X_train = X_train.reshape(X_train.shape[0],1,50,1)\n",
        "X_test = X_test.reshape(X_test.shape[0],1,50,1)"
      ],
      "execution_count": null,
      "outputs": []
    },
    {
      "cell_type": "code",
      "metadata": {
        "id": "sBx9AQuvmHBE"
      },
      "source": [
        "regressor_B = Sequential()"
      ],
      "execution_count": null,
      "outputs": []
    },
    {
      "cell_type": "code",
      "metadata": {
        "id": "8RcKxey8mI_a"
      },
      "source": [
        "regressor_B.add(TimeDistributed(Conv1D(128, kernel_size=1, activation='relu', input_shape=(None,50,1))))\n",
        "regressor_B.add(TimeDistributed(MaxPooling1D(2)))\n",
        "regressor_B.add(TimeDistributed(Conv1D(256, kernel_size=1, activation='relu')))\n",
        "regressor_B.add(TimeDistributed(MaxPooling1D(2)))\n",
        "regressor_B.add(TimeDistributed(Conv1D(512, kernel_size=1, activation='relu')))\n",
        "regressor_B.add(TimeDistributed(MaxPooling1D(2)))\n",
        "regressor_B.add(TimeDistributed(Flatten()))\n",
        "regressor_B.add(Bidirectional(LSTM(200,return_sequences=True)))\n",
        "regressor_B.add(Dropout(0.25))\n",
        "regressor_B.add(Bidirectional(LSTM(200,return_sequences=False)))\n",
        "regressor_B.add(Dropout(0.25))\n",
        "regressor_B.add(Dense(1, activation='linear'))\n",
        "regressor_B.compile(optimizer = 'adam', loss = 'mean_squared_error', metrics= 'mean_squared_error')"
      ],
      "execution_count": null,
      "outputs": []
    },
    {
      "cell_type": "code",
      "metadata": {
        "id": "DL5xNPg4mJyw"
      },
      "source": [
        "early_stop = EarlyStopping(monitor='val_loss', min_delta=1e-10, patience=10, verbose=1)\n",
        "reduce_LR = ReduceLROnPlateau(monitor='val_loss', factor=0.5, patience=5, verbose=1)\n",
        "checkpoint = ModelCheckpoint(filepath='weights.h5', monitor='val_loss', verbose=1, save_best_only=True, save_weights_only=True)\n",
        "tb = TensorBoard('logs')"
      ],
      "execution_count": null,
      "outputs": []
    },
    {
      "cell_type": "code",
      "metadata": {
        "id": "Ahm-hU8Xymmo"
      },
      "source": [
        "#history = regressor_B.fit(X_train, Y_train, validation_data=(X_test,Y_test), shuffle=True, epochs=40,\n",
        "                        #verbose=1, batch_size=64)"
      ],
      "execution_count": null,
      "outputs": []
    },
    {
      "cell_type": "code",
      "metadata": {
        "colab": {
          "base_uri": "https://localhost:8080/"
        },
        "id": "nQBU150bmOGQ",
        "outputId": "5de7d007-5b0d-4a71-d25a-667462a7fab7"
      },
      "source": [
        "history = regressor_B.fit(X_train, Y_train, validation_data=(X_test,Y_test), shuffle=True, epochs=100,\n",
        "                        callbacks=[early_stop, reduce_LR, checkpoint, tb], verbose=1, batch_size=64)"
      ],
      "execution_count": null,
      "outputs": [
        {
          "output_type": "stream",
          "name": "stdout",
          "text": [
            "Epoch 1/100\n",
            "25/25 [==============================] - ETA: 0s - loss: 0.0019 - mean_squared_error: 0.0019\n",
            "Epoch 00001: val_loss improved from inf to 0.00018, saving model to weights.h5\n",
            "25/25 [==============================] - 13s 197ms/step - loss: 0.0019 - mean_squared_error: 0.0019 - val_loss: 1.8434e-04 - val_mean_squared_error: 1.8434e-04 - lr: 0.0010\n",
            "Epoch 2/100\n",
            "25/25 [==============================] - ETA: 0s - loss: 5.5808e-04 - mean_squared_error: 5.5808e-04\n",
            "Epoch 00002: val_loss did not improve from 0.00018\n",
            "25/25 [==============================] - 3s 136ms/step - loss: 5.5808e-04 - mean_squared_error: 5.5808e-04 - val_loss: 8.4848e-04 - val_mean_squared_error: 8.4848e-04 - lr: 0.0010\n",
            "Epoch 3/100\n",
            "25/25 [==============================] - ETA: 0s - loss: 5.0694e-04 - mean_squared_error: 5.0694e-04\n",
            "Epoch 00003: val_loss improved from 0.00018 to 0.00013, saving model to weights.h5\n",
            "25/25 [==============================] - 4s 144ms/step - loss: 5.0694e-04 - mean_squared_error: 5.0694e-04 - val_loss: 1.2587e-04 - val_mean_squared_error: 1.2587e-04 - lr: 0.0010\n",
            "Epoch 4/100\n",
            "25/25 [==============================] - ETA: 0s - loss: 4.1637e-04 - mean_squared_error: 4.1637e-04\n",
            "Epoch 00004: val_loss did not improve from 0.00013\n",
            "25/25 [==============================] - 4s 144ms/step - loss: 4.1637e-04 - mean_squared_error: 4.1637e-04 - val_loss: 1.3569e-04 - val_mean_squared_error: 1.3569e-04 - lr: 0.0010\n",
            "Epoch 5/100\n",
            "25/25 [==============================] - ETA: 0s - loss: 4.3255e-04 - mean_squared_error: 4.3255e-04\n",
            "Epoch 00005: val_loss did not improve from 0.00013\n",
            "25/25 [==============================] - 4s 142ms/step - loss: 4.3255e-04 - mean_squared_error: 4.3255e-04 - val_loss: 1.3126e-04 - val_mean_squared_error: 1.3126e-04 - lr: 0.0010\n",
            "Epoch 6/100\n",
            "25/25 [==============================] - ETA: 0s - loss: 4.4359e-04 - mean_squared_error: 4.4359e-04\n",
            "Epoch 00006: ReduceLROnPlateau reducing learning rate to 0.0005000000237487257.\n",
            "\n",
            "Epoch 00006: val_loss improved from 0.00013 to 0.00012, saving model to weights.h5\n",
            "25/25 [==============================] - 4s 149ms/step - loss: 4.4359e-04 - mean_squared_error: 4.4359e-04 - val_loss: 1.1613e-04 - val_mean_squared_error: 1.1613e-04 - lr: 0.0010\n",
            "Epoch 7/100\n",
            "25/25 [==============================] - ETA: 0s - loss: 3.8953e-04 - mean_squared_error: 3.8953e-04\n",
            "Epoch 00007: val_loss did not improve from 0.00012\n",
            "25/25 [==============================] - 4s 149ms/step - loss: 3.8953e-04 - mean_squared_error: 3.8953e-04 - val_loss: 1.1802e-04 - val_mean_squared_error: 1.1802e-04 - lr: 5.0000e-04\n",
            "Epoch 8/100\n",
            "25/25 [==============================] - ETA: 0s - loss: 4.0428e-04 - mean_squared_error: 4.0428e-04\n",
            "Epoch 00008: val_loss did not improve from 0.00012\n",
            "25/25 [==============================] - 4s 146ms/step - loss: 4.0428e-04 - mean_squared_error: 4.0428e-04 - val_loss: 1.6014e-04 - val_mean_squared_error: 1.6014e-04 - lr: 5.0000e-04\n",
            "Epoch 9/100\n",
            "25/25 [==============================] - ETA: 0s - loss: 3.9668e-04 - mean_squared_error: 3.9668e-04\n",
            "Epoch 00009: val_loss did not improve from 0.00012\n",
            "25/25 [==============================] - 4s 147ms/step - loss: 3.9668e-04 - mean_squared_error: 3.9668e-04 - val_loss: 1.1621e-04 - val_mean_squared_error: 1.1621e-04 - lr: 5.0000e-04\n",
            "Epoch 10/100\n",
            "25/25 [==============================] - ETA: 0s - loss: 3.9643e-04 - mean_squared_error: 3.9643e-04\n",
            "Epoch 00010: val_loss did not improve from 0.00012\n",
            "25/25 [==============================] - 4s 148ms/step - loss: 3.9643e-04 - mean_squared_error: 3.9643e-04 - val_loss: 1.5659e-04 - val_mean_squared_error: 1.5659e-04 - lr: 5.0000e-04\n",
            "Epoch 11/100\n",
            "25/25 [==============================] - ETA: 0s - loss: 3.7132e-04 - mean_squared_error: 3.7132e-04\n",
            "Epoch 00011: ReduceLROnPlateau reducing learning rate to 0.0002500000118743628.\n",
            "\n",
            "Epoch 00011: val_loss did not improve from 0.00012\n",
            "25/25 [==============================] - 4s 144ms/step - loss: 3.7132e-04 - mean_squared_error: 3.7132e-04 - val_loss: 1.3110e-04 - val_mean_squared_error: 1.3110e-04 - lr: 5.0000e-04\n",
            "Epoch 12/100\n",
            "25/25 [==============================] - ETA: 0s - loss: 3.7676e-04 - mean_squared_error: 3.7676e-04\n",
            "Epoch 00012: val_loss did not improve from 0.00012\n",
            "25/25 [==============================] - 4s 145ms/step - loss: 3.7676e-04 - mean_squared_error: 3.7676e-04 - val_loss: 1.2271e-04 - val_mean_squared_error: 1.2271e-04 - lr: 2.5000e-04\n",
            "Epoch 13/100\n",
            "25/25 [==============================] - ETA: 0s - loss: 3.7000e-04 - mean_squared_error: 3.7000e-04\n",
            "Epoch 00013: val_loss did not improve from 0.00012\n",
            "25/25 [==============================] - 4s 149ms/step - loss: 3.7000e-04 - mean_squared_error: 3.7000e-04 - val_loss: 1.1758e-04 - val_mean_squared_error: 1.1758e-04 - lr: 2.5000e-04\n",
            "Epoch 14/100\n",
            "25/25 [==============================] - ETA: 0s - loss: 3.7254e-04 - mean_squared_error: 3.7254e-04\n",
            "Epoch 00014: val_loss did not improve from 0.00012\n",
            "25/25 [==============================] - 4s 143ms/step - loss: 3.7254e-04 - mean_squared_error: 3.7254e-04 - val_loss: 1.2077e-04 - val_mean_squared_error: 1.2077e-04 - lr: 2.5000e-04\n",
            "Epoch 15/100\n",
            "25/25 [==============================] - ETA: 0s - loss: 3.6316e-04 - mean_squared_error: 3.6316e-04\n",
            "Epoch 00015: val_loss did not improve from 0.00012\n",
            "25/25 [==============================] - 4s 145ms/step - loss: 3.6316e-04 - mean_squared_error: 3.6316e-04 - val_loss: 1.3915e-04 - val_mean_squared_error: 1.3915e-04 - lr: 2.5000e-04\n",
            "Epoch 16/100\n",
            "25/25 [==============================] - ETA: 0s - loss: 3.6528e-04 - mean_squared_error: 3.6528e-04\n",
            "Epoch 00016: ReduceLROnPlateau reducing learning rate to 0.0001250000059371814.\n",
            "\n",
            "Epoch 00016: val_loss did not improve from 0.00012\n",
            "25/25 [==============================] - 3s 134ms/step - loss: 3.6528e-04 - mean_squared_error: 3.6528e-04 - val_loss: 1.1696e-04 - val_mean_squared_error: 1.1696e-04 - lr: 2.5000e-04\n",
            "Epoch 00016: early stopping\n"
          ]
        }
      ]
    },
    {
      "cell_type": "code",
      "metadata": {
        "colab": {
          "base_uri": "https://localhost:8080/"
        },
        "id": "TiTRB51mvf0N",
        "outputId": "867e5f7f-8c7a-4396-bbbc-633fa14016f1"
      },
      "source": [
        "print(regressor_B.evaluate(X_test,Y_test))"
      ],
      "execution_count": null,
      "outputs": [
        {
          "output_type": "stream",
          "name": "stdout",
          "text": [
            "13/13 [==============================] - 0s 18ms/step - loss: 1.1696e-04 - mean_squared_error: 1.1696e-04\n",
            "[0.00011696232104441151, 0.00011696232104441151]\n"
          ]
        }
      ]
    },
    {
      "cell_type": "code",
      "metadata": {
        "id": "ETfZv0J7vtdk"
      },
      "source": [
        "predicted  = regressor_B.predict(X_test)\n",
        "test_label = (Y_test[:,0])\n",
        "predicted = np.array(predicted[:,0]).reshape(-1,1)"
      ],
      "execution_count": null,
      "outputs": []
    },
    {
      "cell_type": "code",
      "metadata": {
        "id": "fcWdFJQbv-xs"
      },
      "source": [
        "for j in range(len_t , len_t + len(X_test)):\n",
        "    temp =dataset.iloc[j,1] #\n",
        "    test_label[j - len_t] = test_label[j - len_t] * temp + temp\n",
        "    predicted[j - len_t] = predicted[j - len_t] * temp + temp"
      ],
      "execution_count": null,
      "outputs": []
    },
    {
      "cell_type": "code",
      "metadata": {
        "colab": {
          "base_uri": "https://localhost:8080/",
          "height": 281
        },
        "id": "J84V0fbE9r9v",
        "outputId": "aa4b071b-107f-4ba7-c3ba-ad991777ccfd"
      },
      "source": [
        "plt.plot(history.history['loss'], color = 'red', label = 'Train Loss')\n",
        "plt.plot(history.history['val_loss'], color = 'blue', label = 'Test Loss')\n",
        "plt.title('Loss')\n",
        "plt.legend()\n",
        "plt.show()"
      ],
      "execution_count": null,
      "outputs": [
        {
          "output_type": "display_data",
          "data": {
            "image/png": "[encoded data removed]",
            "text/plain": [
              "<Figure size 432x288 with 1 Axes>"
            ]
          },
          "metadata": {
            "needs_background": "light"
          }
        }
      ]
    },
    {
      "cell_type": "code",
      "metadata": {
        "colab": {
          "base_uri": "https://localhost:8080/",
          "height": 295
        },
        "id": "4ESJEOwBwUfC",
        "outputId": "537ac7f2-4ab9-4ab7-b875-54b207098c9d"
      },
      "source": [
        "plt.plot(test_label, color = 'Red', label = ' Stock Price')\n",
        "plt.plot(predicted, color = 'Blue', label = 'Predicted  Stock Price')\n",
        "plt.title(' Stock Price Prediction')\n",
        "plt.xlabel('Time')\n",
        "plt.ylabel(' Stock Price')\n",
        "plt.legend()\n",
        "plt.show()"
      ],
      "execution_count": null,
      "outputs": [
        {
          "output_type": "display_data",
          "data": {
            "image/png": "[encoded data removed]",
            "text/plain": [
              "<Figure size 432x288 with 1 Axes>"
            ]
          },
          "metadata": {
            "needs_background": "light"
          }
        }
      ]
    },
    {
      "cell_type": "code",
      "metadata": {
        "id": "hPJWNhw9GTPR"
      },
      "source": [
        "test['Moving Average'] = Moving_Average(test)"
      ],
      "execution_count": null,
      "outputs": []
    },
    {
      "cell_type": "code",
      "metadata": {
        "id": "nMOyLtKTHIt_"
      },
      "source": [
        "test = test.reset_index()"
      ],
      "execution_count": null,
      "outputs": []
    },
    {
      "cell_type": "code",
      "metadata": {
        "colab": {
          "base_uri": "https://localhost:8080/",
          "height": 295
        },
        "id": "3595XdxS_h2x",
        "outputId": "3473346a-703f-4a51-de66-ce7fe2166de9"
      },
      "source": [
        "plt.plot(test_label, color = 'Red', label = ' Stock Price')\n",
        "plt.plot(predicted, color = 'Blue', label = 'Predicted  Stock Price')\n",
        "plt.plot(test['Moving Average'], color = 'Yellow', label = 'Moving average')\n",
        "plt.title(' Stock Price Prediction')\n",
        "plt.xlabel('Time')\n",
        "plt.ylabel(' Stock Price')\n",
        "plt.legend()\n",
        "plt.show()"
      ],
      "execution_count": null,
      "outputs": [
        {
          "output_type": "display_data",
          "data": {
            "image/png": "[encoded data removed]",
            "text/plain": [
              "<Figure size 432x288 with 1 Axes>"
            ]
          },
          "metadata": {
            "needs_background": "light"
          }
        }
      ]
    }
  ]
}