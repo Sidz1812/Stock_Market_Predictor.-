{
  "nbformat": 4,
  "nbformat_minor": 0,
  "metadata": {
    "colab": {
      "name": "Classification.ipynb",
      "provenance": []
    },
    "kernelspec": {
      "name": "python3",
      "display_name": "Python 3"
    },
    "language_info": {
      "name": "python"
    }
  },
  "cells": [
    {
      "cell_type": "code",
      "metadata": {
        "id": "qLAod4OC08TW"
      },
      "source": [
        "import pandas as pd\n",
        "import numpy as np\n",
        "import matplotlib.pyplot as plt\n",
        "from sklearn.model_selection import train_test_split\n",
        "from sklearn import preprocessing\n",
        "\n",
        "import os\n",
        "import pprint\n",
        "\n",
        "import tensorflow as tf\n",
        "\n",
        "from keras.models import Sequential\n",
        "from keras.layers import Dense\n",
        "from keras.layers import LSTM\n",
        "from keras.layers import Dropout\n",
        "from keras.layers import RNN\n",
        "from keras.layers import SimpleRNN\n",
        "from keras.layers import Bidirectional\n",
        "from keras.layers import Conv1D,Flatten,MaxPooling1D,Bidirectional,LSTM,Dropout,TimeDistributed,MaxPool2D\n",
        "from keras.layers import Dense,GlobalAveragePooling2D\n",
        "from keras.callbacks import EarlyStopping, ReduceLROnPlateau, ModelCheckpoint, TensorBoard"
      ],
      "execution_count": null,
      "outputs": []
    },
    {
      "cell_type": "markdown",
      "metadata": {
        "id": "VXyTlYbMd3T3"
      },
      "source": [
        "#(Preprocessing and Normalization) , (Naive Baseline)"
      ]
    },
    {
      "cell_type": "code",
      "metadata": {
        "id": "4SQX4sgb1FEi"
      },
      "source": [
        "dataset = pd.read_csv('Processed_S&P.csv')\n",
        "dataset = dataset[[\"Date\", \"Close\"]]"
      ],
      "execution_count": null,
      "outputs": []
    },
    {
      "cell_type": "code",
      "metadata": {
        "id": "zV-SYxaW7Ty_"
      },
      "source": [
        "dataset[\"Labels\"] = 0"
      ],
      "execution_count": null,
      "outputs": []
    },
    {
      "cell_type": "code",
      "metadata": {
        "id": "3Mu0DGDR_oKE"
      },
      "source": [
        "dataset['Close'] = dataset['Close'].astype(float)"
      ],
      "execution_count": null,
      "outputs": []
    },
    {
      "cell_type": "code",
      "metadata": {
        "id": "wcCemrtZ615J"
      },
      "source": [
        "#dataset"
      ],
      "execution_count": null,
      "outputs": []
    },
    {
      "cell_type": "code",
      "metadata": {
        "colab": {
          "base_uri": "https://localhost:8080/"
        },
        "id": "MSoJmpjI8i21",
        "outputId": "eb0b6bdf-4cb6-4ae9-c20a-952d0006107e"
      },
      "source": [
        "for i in range (1, len(dataset)):\n",
        "  if dataset[\"Close\"].iloc[i] > dataset[\"Close\"].iloc[i-1]:\n",
        "    dataset[\"Labels\"].iloc[i] = 1\n",
        "\n",
        "  else:\n",
        "    dataset[\"Labels\"].iloc[i] = 0"
      ],
      "execution_count": null,
      "outputs": [
        {
          "output_type": "stream",
          "name": "stderr",
          "text": [
            "/usr/local/lib/python3.7/dist-packages/pandas/core/indexing.py:670: SettingWithCopyWarning: \n",
            "A value is trying to be set on a copy of a slice from a DataFrame\n",
            "\n",
            "See the caveats in the documentation: https://pandas.pydata.org/pandas-docs/stable/user_guide/indexing.html#returning-a-view-versus-a-copy\n",
            "  iloc._setitem_with_indexer(indexer, value)\n"
          ]
        }
      ]
    },
    {
      "cell_type": "code",
      "metadata": {
        "id": "afGVMc-YB9jP"
      },
      "source": [
        "#dataset"
      ],
      "execution_count": null,
      "outputs": []
    },
    {
      "cell_type": "code",
      "metadata": {
        "id": "TCkmumKrB-e-"
      },
      "source": [
        "dataset['Date'] = pd.to_datetime(dataset['Date'])\n",
        "dataset = dataset.set_index(dataset['Date'])\n",
        "dataset = dataset.sort_index()"
      ],
      "execution_count": null,
      "outputs": []
    },
    {
      "cell_type": "code",
      "metadata": {
        "colab": {
          "base_uri": "https://localhost:8080/"
        },
        "id": "ViDqjuZID2hn",
        "outputId": "3df66023-8e6f-4bf6-b034-a5f54be3ed06"
      },
      "source": [
        "train = dataset['2009-12-31':'2016-05-06']\n",
        "test  = dataset['2016-05-06':]\n",
        "print('Train Dataset:',train.shape)\n",
        "print('Test Dataset:',test.shape)"
      ],
      "execution_count": null,
      "outputs": [
        {
          "output_type": "stream",
          "name": "stdout",
          "text": [
            "Train Dataset: (1598, 3)\n",
            "Test Dataset: (387, 3)\n"
          ]
        }
      ]
    },
    {
      "cell_type": "code",
      "metadata": {
        "id": "dHQAOoqrD4tp"
      },
      "source": [
        "train = train.dropna(axis = 0)\n",
        "test  = test.dropna(axis = 0)"
      ],
      "execution_count": null,
      "outputs": []
    },
    {
      "cell_type": "code",
      "metadata": {
        "id": "IMzdwbbMHjJQ"
      },
      "source": [
        "def Moving_Average(dataset, period = 5, column = 'Close'):\n",
        "  return dataset[column].rolling(window = period).mean()"
      ],
      "execution_count": null,
      "outputs": []
    },
    {
      "cell_type": "code",
      "metadata": {
        "colab": {
          "base_uri": "https://localhost:8080/",
          "height": 281
        },
        "id": "7GpBVq0jR14D",
        "outputId": "2c2d84e0-1ac1-4171-8057-100cc81ab67b"
      },
      "source": [
        "plt.title(\"Close_Price\")\n",
        "plt.plot(test['Close'], label = 'Stock Price')\n",
        "plt.plot(Moving_Average(test), label = 'Moving Average')\n",
        "plt.legend()\n",
        "plt.show()"
      ],
      "execution_count": null,
      "outputs": [
        {
          "output_type": "display_data",
          "data": {
            "image/png": "[encoded data removed]",
            "text/plain": [
              "<Figure size 432x288 with 1 Axes>"
            ]
          },
          "metadata": {
            "needs_background": "light"
          }
        }
      ]
    },
    {
      "cell_type": "code",
      "metadata": {
        "id": "U0f7rpr8HseI"
      },
      "source": [
        "test['Moving Average'] = Moving_Average(test)"
      ],
      "execution_count": null,
      "outputs": []
    },
    {
      "cell_type": "code",
      "metadata": {
        "id": "G2vbOHIlIIgG"
      },
      "source": [
        "test[\"Naive_Labels\"] = 0\n",
        "test['Moving Average'] = test['Moving Average'].astype(float)"
      ],
      "execution_count": null,
      "outputs": []
    },
    {
      "cell_type": "code",
      "metadata": {
        "colab": {
          "base_uri": "https://localhost:8080/"
        },
        "id": "d8_9GvMvIYyb",
        "outputId": "d37e71e0-e2e8-42f1-caba-dd357789bfb9"
      },
      "source": [
        "for i in range (1, len(test)):\n",
        "  if test['Moving Average'].iloc[i] > test['Moving Average'].iloc[i-1]:\n",
        "    test[\"Naive_Labels\"].iloc[i] = 1\n",
        "\n",
        "  else:\n",
        "    test[\"Naive_Labels\"].iloc[i] = 0"
      ],
      "execution_count": null,
      "outputs": [
        {
          "output_type": "stream",
          "name": "stderr",
          "text": [
            "/usr/local/lib/python3.7/dist-packages/pandas/core/indexing.py:670: SettingWithCopyWarning: \n",
            "A value is trying to be set on a copy of a slice from a DataFrame\n",
            "\n",
            "See the caveats in the documentation: https://pandas.pydata.org/pandas-docs/stable/user_guide/indexing.html#returning-a-view-versus-a-copy\n",
            "  iloc._setitem_with_indexer(indexer, value)\n"
          ]
        }
      ]
    },
    {
      "cell_type": "code",
      "metadata": {
        "id": "gVWujPmUI09m"
      },
      "source": [
        "True_Labels = test.iloc[:,2]\n",
        "Naive_Labels= test.iloc[:,4]"
      ],
      "execution_count": null,
      "outputs": []
    },
    {
      "cell_type": "code",
      "metadata": {
        "colab": {
          "base_uri": "https://localhost:8080/"
        },
        "id": "eVUq4FOfJIxe",
        "outputId": "8ed84556-25bb-4c23-900b-97de6fd8c977"
      },
      "source": [
        "from sklearn.metrics import accuracy_score\n",
        "\n",
        "score_naive = accuracy_score(Naive_Labels, True_Labels)\n",
        "print(\"Accuracy with Naive_Baseline: \",score_naive)"
      ],
      "execution_count": null,
      "outputs": [
        {
          "output_type": "stream",
          "name": "stdout",
          "text": [
            "Accuracy with Naive_Baseline:  0.6692506459948321\n"
          ]
        }
      ]
    },
    {
      "cell_type": "markdown",
      "metadata": {
        "id": "Q88zaXjmJYGR"
      },
      "source": [
        "# More Preprocessing"
      ]
    },
    {
      "cell_type": "code",
      "metadata": {
        "id": "52jcnq__D8Vk"
      },
      "source": [
        "Train_Data = train.iloc[:, 1:2].values\n",
        "Train_Labels = train.iloc[:, 2:3].values\n",
        "Test_Data = test.iloc[:, 1:2]\n",
        "Test_Labels = test.iloc[:, 2:3].values"
      ],
      "execution_count": null,
      "outputs": []
    },
    {
      "cell_type": "code",
      "metadata": {
        "id": "iYGMJ_WHEyz2"
      },
      "source": [
        "from sklearn.preprocessing import MinMaxScaler\n",
        "sc = MinMaxScaler(feature_range = (0, 1))\n",
        "training_set_scaled = sc.fit_transform(Train_Data)"
      ],
      "execution_count": null,
      "outputs": []
    },
    {
      "cell_type": "code",
      "metadata": {
        "colab": {
          "base_uri": "https://localhost:8080/"
        },
        "id": "-M12LuT5E_Cv",
        "outputId": "17303102-c72c-44da-fd7f-73663481b802"
      },
      "source": [
        "Train_Data.size"
      ],
      "execution_count": null,
      "outputs": [
        {
          "output_type": "execute_result",
          "data": {
            "text/plain": [
              "1598"
            ]
          },
          "metadata": {},
          "execution_count": 51
        }
      ]
    },
    {
      "cell_type": "code",
      "metadata": {
        "id": "mzfpOjCtIXjM"
      },
      "source": [
        "x_train = []\n",
        "for i in range(50, 1598):  \n",
        "    x_train.append(training_set_scaled[i-50:i, 0])\n",
        "x_train = np.array(x_train)"
      ],
      "execution_count": null,
      "outputs": []
    },
    {
      "cell_type": "code",
      "metadata": {
        "colab": {
          "base_uri": "https://localhost:8080/"
        },
        "id": "4Ja_0diTKhPX",
        "outputId": "ce3175d3-6aab-40a3-b0bd-6cffd4f83d31"
      },
      "source": [
        "x_train = np.reshape(x_train, (x_train.shape[0], x_train.shape[1], 1))\n",
        "x_train.shape"
      ],
      "execution_count": null,
      "outputs": [
        {
          "output_type": "execute_result",
          "data": {
            "text/plain": [
              "(1548, 50, 1)"
            ]
          },
          "metadata": {},
          "execution_count": 53
        }
      ]
    },
    {
      "cell_type": "code",
      "metadata": {
        "id": "rMK2qHf2iBtZ",
        "colab": {
          "base_uri": "https://localhost:8080/"
        },
        "outputId": "0fe22a01-f391-4c17-d662-ec16e6f225bc"
      },
      "source": [
        "Train_Labels = Train_Labels[50:]\n",
        "Train_Labels.shape"
      ],
      "execution_count": null,
      "outputs": [
        {
          "output_type": "execute_result",
          "data": {
            "text/plain": [
              "(1548, 1)"
            ]
          },
          "metadata": {},
          "execution_count": 54
        }
      ]
    },
    {
      "cell_type": "code",
      "metadata": {
        "id": "FyLV6KMrP2z4"
      },
      "source": [
        "test = test.drop(['Date'], axis=1)\n",
        "train = train.drop(['Date'], axis=1)"
      ],
      "execution_count": null,
      "outputs": []
    },
    {
      "cell_type": "code",
      "metadata": {
        "id": "f6PFY6XCP4DW"
      },
      "source": [
        "dataset_total = pd.concat((train['Close'], test['Close']), axis = 0)"
      ],
      "execution_count": null,
      "outputs": []
    },
    {
      "cell_type": "code",
      "metadata": {
        "id": "bZZ-gww3PIkK"
      },
      "source": [
        "inputs = dataset_total[len(dataset_total) - len(test) - 50:].values\n",
        "inputs = inputs.reshape(-1,1)\n",
        "inputs = sc.transform(inputs)\n",
        "x_test = []\n",
        "for i in range(50, 437):\n",
        "    x_test.append(inputs[i-50:i, 0])\n",
        "x_test = np.array(x_test)\n",
        "x_test = np.reshape(x_test, (x_test.shape[0], x_test.shape[1], 1))"
      ],
      "execution_count": null,
      "outputs": []
    },
    {
      "cell_type": "markdown",
      "metadata": {
        "id": "wn8QwbYpdkEc"
      },
      "source": [
        "# Simple Model"
      ]
    },
    {
      "cell_type": "code",
      "metadata": {
        "id": "auSd9UxbLaXr"
      },
      "source": [
        "classifier_A = Sequential()"
      ],
      "execution_count": null,
      "outputs": []
    },
    {
      "cell_type": "code",
      "metadata": {
        "id": "IACu6S63RkLH"
      },
      "source": [
        "classifier_A.add(LSTM(units = 10, return_sequences = True, input_shape = (x_train.shape[1], 1)))\n",
        "classifier_A.add(Dropout(0.2))\n",
        "\n",
        "classifier_A.add(LSTM(units = 10, return_sequences = True))\n",
        "classifier_A.add(Dropout(0.2))\n",
        "\n",
        "classifier_A.add(LSTM(units = 10))\n",
        "classifier_A.add(Dropout(0.2))\n",
        "\n",
        "classifier_A.add(Dense(units = 1))"
      ],
      "execution_count": null,
      "outputs": []
    },
    {
      "cell_type": "code",
      "metadata": {
        "id": "K9VDCj4kL6wE",
        "colab": {
          "base_uri": "https://localhost:8080/",
          "height": 88
        },
        "outputId": "8585e60c-6588-4277-e928-b6037de28ee7"
      },
      "source": [
        "'''\n",
        "classifier_A.add(Bidirectional(LSTM(units = 10, return_sequences = True, input_shape = (x_train.shape[1], 1))))\n",
        "classifier_A.add(Dropout(0.2))\n",
        "\n",
        "classifier_A.add(Bidirectional(LSTM(units = 10, return_sequences = True)))\n",
        "classifier_A.add(Dropout(0.2))\n",
        "\n",
        "classifier_A.add(Bidirectional(LSTM(units = 10)))\n",
        "classifier_A.add(Dropout(0.2))\n",
        "\n",
        "classifier_A.add(Dense(units = 1))\n",
        "'''"
      ],
      "execution_count": null,
      "outputs": [
        {
          "output_type": "execute_result",
          "data": {
            "application/vnd.google.colaboratory.intrinsic+json": {
              "type": "string"
            },
            "text/plain": [
              "'\\nclassifier_A.add(Bidirectional(LSTM(units = 10, return_sequences = True, input_shape = (x_train.shape[1], 1))))\\nclassifier_A.add(Dropout(0.2))\\n\\nclassifier_A.add(Bidirectional(LSTM(units = 10, return_sequences = True)))\\nclassifier_A.add(Dropout(0.2))\\n\\nclassifier_A.add(Bidirectional(LSTM(units = 10)))\\nclassifier_A.add(Dropout(0.2))\\n\\nclassifier_A.add(Dense(units = 1))\\n'"
            ]
          },
          "metadata": {},
          "execution_count": 60
        }
      ]
    },
    {
      "cell_type": "code",
      "metadata": {
        "id": "JNDfrtyjMRjd"
      },
      "source": [
        "classifier_A.compile(optimizer = 'adam', loss = 'binary_crossentropy', metrics = ['accuracy'])"
      ],
      "execution_count": null,
      "outputs": []
    },
    {
      "cell_type": "code",
      "metadata": {
        "id": "g-ImtiK0Cffj"
      },
      "source": [
        "#history = classifier.fit(x_train, Train_Labels, shuffle=True, epochs=100,\n",
        "                       # callbacks=[es, rlr,mcp, tb], validation_split=0.2, verbose=1, batch_size=64)"
      ],
      "execution_count": null,
      "outputs": []
    },
    {
      "cell_type": "code",
      "metadata": {
        "id": "0AnWFi-nPr5b",
        "colab": {
          "base_uri": "https://localhost:8080/"
        },
        "outputId": "0dd3b9f3-4576-43e6-c2ec-31526dd784b7"
      },
      "source": [
        "history = classifier_A.fit(x_train, Train_Labels, validation_data=(x_test, Test_Labels), epochs = 50, batch_size = 32)"
      ],
      "execution_count": null,
      "outputs": [
        {
          "output_type": "stream",
          "name": "stdout",
          "text": [
            "Epoch 1/50\n",
            "49/49 [==============================] - 9s 83ms/step - loss: 1.5151 - accuracy: 0.4587 - val_loss: 0.6913 - val_accuracy: 0.5504\n",
            "Epoch 2/50\n",
            "49/49 [==============================] - 3s 57ms/step - loss: 0.7769 - accuracy: 0.4903 - val_loss: 0.6915 - val_accuracy: 0.5504\n",
            "Epoch 3/50\n",
            "49/49 [==============================] - 3s 57ms/step - loss: 0.7508 - accuracy: 0.4677 - val_loss: 0.6885 - val_accuracy: 0.5504\n",
            "Epoch 4/50\n",
            "49/49 [==============================] - 3s 56ms/step - loss: 0.7236 - accuracy: 0.5006 - val_loss: 0.6917 - val_accuracy: 0.5504\n",
            "Epoch 5/50\n",
            "49/49 [==============================] - 3s 57ms/step - loss: 0.7198 - accuracy: 0.5200 - val_loss: 0.6890 - val_accuracy: 0.5504\n",
            "Epoch 6/50\n",
            "49/49 [==============================] - 3s 57ms/step - loss: 0.7217 - accuracy: 0.4864 - val_loss: 0.6887 - val_accuracy: 0.5504\n",
            "Epoch 7/50\n",
            "49/49 [==============================] - 3s 56ms/step - loss: 0.7081 - accuracy: 0.5097 - val_loss: 0.6922 - val_accuracy: 0.5504\n",
            "Epoch 8/50\n",
            "49/49 [==============================] - 3s 57ms/step - loss: 0.7088 - accuracy: 0.5129 - val_loss: 0.6898 - val_accuracy: 0.5504\n",
            "Epoch 9/50\n",
            "49/49 [==============================] - 3s 57ms/step - loss: 0.7064 - accuracy: 0.5329 - val_loss: 0.6916 - val_accuracy: 0.5504\n",
            "Epoch 10/50\n",
            "49/49 [==============================] - 3s 57ms/step - loss: 0.7203 - accuracy: 0.4845 - val_loss: 0.6954 - val_accuracy: 0.4548\n",
            "Epoch 11/50\n",
            "49/49 [==============================] - 3s 56ms/step - loss: 0.7116 - accuracy: 0.5103 - val_loss: 0.6942 - val_accuracy: 0.4677\n",
            "Epoch 12/50\n",
            "49/49 [==============================] - 3s 57ms/step - loss: 0.7124 - accuracy: 0.5000 - val_loss: 0.6912 - val_accuracy: 0.5504\n",
            "Epoch 13/50\n",
            "49/49 [==============================] - 3s 57ms/step - loss: 0.7055 - accuracy: 0.5155 - val_loss: 0.6929 - val_accuracy: 0.4987\n",
            "Epoch 14/50\n",
            "49/49 [==============================] - 3s 56ms/step - loss: 0.7064 - accuracy: 0.5142 - val_loss: 0.6895 - val_accuracy: 0.5504\n",
            "Epoch 15/50\n",
            "49/49 [==============================] - 3s 57ms/step - loss: 0.7132 - accuracy: 0.4994 - val_loss: 0.6916 - val_accuracy: 0.5504\n",
            "Epoch 16/50\n",
            "49/49 [==============================] - 3s 58ms/step - loss: 0.7057 - accuracy: 0.4903 - val_loss: 0.6923 - val_accuracy: 0.5297\n",
            "Epoch 17/50\n",
            "49/49 [==============================] - 3s 57ms/step - loss: 0.7050 - accuracy: 0.5233 - val_loss: 0.6943 - val_accuracy: 0.4599\n",
            "Epoch 18/50\n",
            "49/49 [==============================] - 3s 56ms/step - loss: 0.7148 - accuracy: 0.4877 - val_loss: 0.6958 - val_accuracy: 0.4703\n",
            "Epoch 19/50\n",
            "49/49 [==============================] - 3s 57ms/step - loss: 0.7073 - accuracy: 0.5084 - val_loss: 0.6978 - val_accuracy: 0.4496\n",
            "Epoch 20/50\n",
            "49/49 [==============================] - 3s 56ms/step - loss: 0.7014 - accuracy: 0.5207 - val_loss: 0.6917 - val_accuracy: 0.5504\n",
            "Epoch 21/50\n",
            "49/49 [==============================] - 3s 57ms/step - loss: 0.7069 - accuracy: 0.5200 - val_loss: 0.6907 - val_accuracy: 0.5504\n",
            "Epoch 22/50\n",
            "49/49 [==============================] - 3s 56ms/step - loss: 0.7097 - accuracy: 0.5052 - val_loss: 0.6908 - val_accuracy: 0.5504\n",
            "Epoch 23/50\n",
            "49/49 [==============================] - 3s 57ms/step - loss: 0.7103 - accuracy: 0.5026 - val_loss: 0.6921 - val_accuracy: 0.5478\n",
            "Epoch 24/50\n",
            "49/49 [==============================] - 3s 57ms/step - loss: 0.7142 - accuracy: 0.4929 - val_loss: 0.6920 - val_accuracy: 0.5556\n",
            "Epoch 25/50\n",
            "49/49 [==============================] - 3s 57ms/step - loss: 0.6993 - accuracy: 0.5258 - val_loss: 0.6924 - val_accuracy: 0.5271\n",
            "Epoch 26/50\n",
            "49/49 [==============================] - 3s 57ms/step - loss: 0.7096 - accuracy: 0.4974 - val_loss: 0.6952 - val_accuracy: 0.4677\n",
            "Epoch 27/50\n",
            "49/49 [==============================] - 3s 57ms/step - loss: 0.7093 - accuracy: 0.5019 - val_loss: 0.6889 - val_accuracy: 0.5504\n",
            "Epoch 28/50\n",
            "49/49 [==============================] - 3s 58ms/step - loss: 0.7015 - accuracy: 0.5433 - val_loss: 0.6982 - val_accuracy: 0.4496\n",
            "Epoch 29/50\n",
            "49/49 [==============================] - 3s 58ms/step - loss: 0.7084 - accuracy: 0.5026 - val_loss: 0.6939 - val_accuracy: 0.4625\n",
            "Epoch 30/50\n",
            "49/49 [==============================] - 3s 58ms/step - loss: 0.6965 - accuracy: 0.5433 - val_loss: 0.6929 - val_accuracy: 0.4961\n",
            "Epoch 31/50\n",
            "49/49 [==============================] - 3s 57ms/step - loss: 0.6973 - accuracy: 0.5323 - val_loss: 0.7002 - val_accuracy: 0.4496\n",
            "Epoch 32/50\n",
            "49/49 [==============================] - 3s 57ms/step - loss: 0.6958 - accuracy: 0.5245 - val_loss: 0.6904 - val_accuracy: 0.5504\n",
            "Epoch 33/50\n",
            "49/49 [==============================] - 3s 57ms/step - loss: 0.7079 - accuracy: 0.4994 - val_loss: 0.6897 - val_accuracy: 0.5504\n",
            "Epoch 34/50\n",
            "49/49 [==============================] - 3s 57ms/step - loss: 0.7058 - accuracy: 0.5039 - val_loss: 0.6917 - val_accuracy: 0.5504\n",
            "Epoch 35/50\n",
            "49/49 [==============================] - 3s 56ms/step - loss: 0.7077 - accuracy: 0.5000 - val_loss: 0.6916 - val_accuracy: 0.5504\n",
            "Epoch 36/50\n",
            "49/49 [==============================] - 3s 57ms/step - loss: 0.6922 - accuracy: 0.5472 - val_loss: 0.6901 - val_accuracy: 0.5504\n",
            "Epoch 37/50\n",
            "49/49 [==============================] - 3s 56ms/step - loss: 0.6992 - accuracy: 0.5220 - val_loss: 0.6960 - val_accuracy: 0.4522\n",
            "Epoch 38/50\n",
            "49/49 [==============================] - 3s 57ms/step - loss: 0.7058 - accuracy: 0.4935 - val_loss: 0.6925 - val_accuracy: 0.5220\n",
            "Epoch 39/50\n",
            "49/49 [==============================] - 3s 57ms/step - loss: 0.6990 - accuracy: 0.5258 - val_loss: 0.6916 - val_accuracy: 0.5504\n",
            "Epoch 40/50\n",
            "49/49 [==============================] - 3s 57ms/step - loss: 0.7024 - accuracy: 0.5078 - val_loss: 0.7002 - val_accuracy: 0.4496\n",
            "Epoch 41/50\n",
            "49/49 [==============================] - 3s 57ms/step - loss: 0.6983 - accuracy: 0.5155 - val_loss: 0.6913 - val_accuracy: 0.5504\n",
            "Epoch 42/50\n",
            "49/49 [==============================] - 3s 57ms/step - loss: 0.6949 - accuracy: 0.5446 - val_loss: 0.6917 - val_accuracy: 0.5504\n",
            "Epoch 43/50\n",
            "49/49 [==============================] - 3s 57ms/step - loss: 0.6973 - accuracy: 0.5271 - val_loss: 0.6891 - val_accuracy: 0.5504\n",
            "Epoch 44/50\n",
            "49/49 [==============================] - 3s 57ms/step - loss: 0.7026 - accuracy: 0.5181 - val_loss: 0.7015 - val_accuracy: 0.4496\n",
            "Epoch 45/50\n",
            "49/49 [==============================] - 3s 57ms/step - loss: 0.7052 - accuracy: 0.5090 - val_loss: 0.6976 - val_accuracy: 0.4496\n",
            "Epoch 46/50\n",
            "49/49 [==============================] - 3s 57ms/step - loss: 0.7009 - accuracy: 0.5136 - val_loss: 0.6938 - val_accuracy: 0.4755\n",
            "Epoch 47/50\n",
            "49/49 [==============================] - 3s 56ms/step - loss: 0.7008 - accuracy: 0.5052 - val_loss: 0.6895 - val_accuracy: 0.5504\n",
            "Epoch 48/50\n",
            "49/49 [==============================] - 3s 57ms/step - loss: 0.6979 - accuracy: 0.5304 - val_loss: 0.6929 - val_accuracy: 0.4987\n",
            "Epoch 49/50\n",
            "49/49 [==============================] - 3s 57ms/step - loss: 0.7063 - accuracy: 0.5116 - val_loss: 0.6950 - val_accuracy: 0.4703\n",
            "Epoch 50/50\n",
            "49/49 [==============================] - 3s 56ms/step - loss: 0.7025 - accuracy: 0.5233 - val_loss: 0.6914 - val_accuracy: 0.5504\n"
          ]
        }
      ]
    },
    {
      "cell_type": "code",
      "metadata": {
        "colab": {
          "base_uri": "https://localhost:8080/"
        },
        "id": "z8RBL9uFv-bX",
        "outputId": "71c99888-3fa7-4310-d78e-3d7aa889b0f0"
      },
      "source": [
        "print(classifier_A.evaluate(x_test, Test_Labels))"
      ],
      "execution_count": null,
      "outputs": [
        {
          "output_type": "stream",
          "name": "stdout",
          "text": [
            "13/13 [==============================] - 0s 12ms/step - loss: 0.6914 - accuracy: 0.5504\n",
            "[0.6913721561431885, 0.5503876209259033]\n"
          ]
        }
      ]
    },
    {
      "cell_type": "code",
      "metadata": {
        "colab": {
          "base_uri": "https://localhost:8080/",
          "height": 281
        },
        "id": "qeEz5x35b47P",
        "outputId": "b5527770-586f-4035-8748-bbb63b6ae70a"
      },
      "source": [
        "plt.plot(history.history['loss'], color = 'red', label = 'Train Loss')\n",
        "plt.plot(history.history['val_loss'], color = 'blue', label = 'Test Loss')\n",
        "plt.title('Loss')\n",
        "plt.legend()\n",
        "plt.show()"
      ],
      "execution_count": null,
      "outputs": [
        {
          "output_type": "display_data",
          "data": {
            "image/png": "[encoded data removed]",
            "text/plain": [
              "<Figure size 432x288 with 1 Axes>"
            ]
          },
          "metadata": {
            "needs_background": "light"
          }
        }
      ]
    },
    {
      "cell_type": "code",
      "metadata": {
        "colab": {
          "base_uri": "https://localhost:8080/",
          "height": 281
        },
        "id": "dBasX0egb-jC",
        "outputId": "fb427c64-d270-4ce7-ceb0-38376e0f1a25"
      },
      "source": [
        "plt.plot(history.history['accuracy'], color = 'red', label = 'Train Accuracy')\n",
        "plt.plot(history.history['val_accuracy'], color = 'blue', label = 'Test Accuracy')\n",
        "plt.title('Accuracy')\n",
        "plt.legend()\n",
        "plt.show()"
      ],
      "execution_count": null,
      "outputs": [
        {
          "output_type": "display_data",
          "data": {
            "image/png": "[encoded data removed]",
            "text/plain": [
              "<Figure size 432x288 with 1 Axes>"
            ]
          },
          "metadata": {
            "needs_background": "light"
          }
        }
      ]
    },
    {
      "cell_type": "code",
      "metadata": {
        "id": "kfyelrbdNrvY"
      },
      "source": [
        "predicted_stock_price = classifier_A.predict(x_test)\n",
        "predicted_stock_price = sc.inverse_transform(predicted_stock_price)"
      ],
      "execution_count": null,
      "outputs": []
    },
    {
      "cell_type": "markdown",
      "metadata": {
        "id": "_Tu_Fg7oQEch"
      },
      "source": [
        "# Advanced model\n",
        "\n"
      ]
    },
    {
      "cell_type": "code",
      "metadata": {
        "colab": {
          "base_uri": "https://localhost:8080/"
        },
        "id": "4fh0sEag2CHH",
        "outputId": "9de55e6e-5344-4278-81a0-fe0ee3bc1c24"
      },
      "source": [
        "x_train = np.reshape(x_train, (x_train.shape[0], x_train.shape[1], 1))\n",
        "x_train.shape"
      ],
      "execution_count": null,
      "outputs": [
        {
          "output_type": "execute_result",
          "data": {
            "text/plain": [
              "(1548, 50, 1)"
            ]
          },
          "metadata": {},
          "execution_count": 68
        }
      ]
    },
    {
      "cell_type": "code",
      "metadata": {
        "colab": {
          "base_uri": "https://localhost:8080/"
        },
        "id": "yRumkevu2Mbt",
        "outputId": "77dd702d-3656-486f-8eff-31c1db628ced"
      },
      "source": [
        "x_train.shape"
      ],
      "execution_count": null,
      "outputs": [
        {
          "output_type": "execute_result",
          "data": {
            "text/plain": [
              "(1548, 50, 1)"
            ]
          },
          "metadata": {},
          "execution_count": 69
        }
      ]
    },
    {
      "cell_type": "code",
      "metadata": {
        "id": "lrmzvx1y170h"
      },
      "source": [
        "x_train = x_train.reshape(x_train.shape[0],1,50,1)"
      ],
      "execution_count": null,
      "outputs": []
    },
    {
      "cell_type": "code",
      "metadata": {
        "id": "o9b6rt4U2cJt"
      },
      "source": [
        "#dataset"
      ],
      "execution_count": null,
      "outputs": []
    },
    {
      "cell_type": "code",
      "metadata": {
        "id": "SJMwxfA97oH4"
      },
      "source": [
        "dataset = dataset.dropna(axis = 0)"
      ],
      "execution_count": null,
      "outputs": []
    },
    {
      "cell_type": "code",
      "metadata": {
        "colab": {
          "base_uri": "https://localhost:8080/"
        },
        "id": "8HXgcbBw7rt_",
        "outputId": "c764432a-5261-4864-d72b-c17468b5a824"
      },
      "source": [
        "dataset.shape"
      ],
      "execution_count": null,
      "outputs": [
        {
          "output_type": "execute_result",
          "data": {
            "text/plain": [
              "(1984, 3)"
            ]
          },
          "metadata": {},
          "execution_count": 73
        }
      ]
    },
    {
      "cell_type": "code",
      "metadata": {
        "id": "eDnhyJZ77wYv"
      },
      "source": [
        "Timestamp = 50\n",
        "X = []"
      ],
      "execution_count": null,
      "outputs": []
    },
    {
      "cell_type": "code",
      "metadata": {
        "id": "sO-sedKe71bc"
      },
      "source": [
        "for i in range(0 , len(dataset) - Timestamp -1 , 1):\n",
        "    first = dataset.iloc[i, 1]\n",
        "    temp = []\n",
        "    for j in range(Timestamp):\n",
        "        temp.append((dataset.iloc[i + j, 1] - first) / first)\n",
        "    X.append(np.array(temp).reshape(50, 1))"
      ],
      "execution_count": null,
      "outputs": []
    },
    {
      "cell_type": "code",
      "metadata": {
        "id": "43EL7JI08G6E",
        "colab": {
          "base_uri": "https://localhost:8080/"
        },
        "outputId": "949877f0-8787-4259-dfb8-84d32387d059"
      },
      "source": [
        "X = np.array(X)\n",
        "X.shape"
      ],
      "execution_count": null,
      "outputs": [
        {
          "output_type": "execute_result",
          "data": {
            "text/plain": [
              "(1933, 50, 1)"
            ]
          },
          "metadata": {},
          "execution_count": 76
        }
      ]
    },
    {
      "cell_type": "code",
      "metadata": {
        "id": "IlkTcgRF80zA",
        "colab": {
          "base_uri": "https://localhost:8080/"
        },
        "outputId": "14b450db-3e45-4ecb-b9da-7bec578aed57"
      },
      "source": [
        "Y = dataset['Labels']\n",
        "Y = np.array(Y)\n",
        "Y.shape"
      ],
      "execution_count": null,
      "outputs": [
        {
          "output_type": "execute_result",
          "data": {
            "text/plain": [
              "(1984,)"
            ]
          },
          "metadata": {},
          "execution_count": 77
        }
      ]
    },
    {
      "cell_type": "code",
      "metadata": {
        "id": "G6ptATBM858j",
        "colab": {
          "base_uri": "https://localhost:8080/"
        },
        "outputId": "2cd40747-f092-4be6-caef-47ea3d1c7959"
      },
      "source": [
        "Y = Y[51:]\n",
        "Y.shape"
      ],
      "execution_count": null,
      "outputs": [
        {
          "output_type": "execute_result",
          "data": {
            "text/plain": [
              "(1933,)"
            ]
          },
          "metadata": {},
          "execution_count": 78
        }
      ]
    },
    {
      "cell_type": "code",
      "metadata": {
        "id": "xziUwDnh9PyE"
      },
      "source": [
        "X_train,X_test,Y_train,Y_test = train_test_split(X, Y, test_size=0.2,shuffle=False)"
      ],
      "execution_count": null,
      "outputs": []
    },
    {
      "cell_type": "code",
      "metadata": {
        "id": "Dd3xFafL9xyi"
      },
      "source": [
        "X_train = X_train.reshape(X_train.shape[0],1,50,1)\n",
        "X_test = X_test.reshape(X_test.shape[0],1,50,1)"
      ],
      "execution_count": null,
      "outputs": []
    },
    {
      "cell_type": "code",
      "metadata": {
        "id": "YVO2db_e-D1m"
      },
      "source": [
        "classifier_B = Sequential()"
      ],
      "execution_count": null,
      "outputs": []
    },
    {
      "cell_type": "code",
      "metadata": {
        "id": "4yJDWUuZ-IKi"
      },
      "source": [
        "classifier_B.add(TimeDistributed(Conv1D(16, kernel_size=1, activation='relu', input_shape=(None,50,1))))\n",
        "classifier_B.add(TimeDistributed(MaxPooling1D(2)))\n",
        "classifier_B.add(TimeDistributed(Conv1D(32, kernel_size=1, activation='relu')))\n",
        "classifier_B.add(TimeDistributed(MaxPooling1D(2)))\n",
        "classifier_B.add(TimeDistributed(Conv1D(64, kernel_size=1, activation='relu')))\n",
        "classifier_B.add(TimeDistributed(MaxPooling1D(2)))\n",
        "classifier_B.add(TimeDistributed(Flatten()))\n",
        "classifier_B.add(Bidirectional(LSTM(10,return_sequences=True)))\n",
        "classifier_B.add(Dropout(0.25))\n",
        "classifier_B.add(Bidirectional(LSTM(10,return_sequences=False)))\n",
        "classifier_B.add(Dropout(0.25))\n",
        "classifier_B.add(Dense(1, activation='linear'))\n",
        "classifier_B.compile(optimizer='adam', loss='binary_crossentropy', metrics = ['accuracy'])"
      ],
      "execution_count": null,
      "outputs": []
    },
    {
      "cell_type": "code",
      "metadata": {
        "id": "sLzgsqL9Izzk"
      },
      "source": [
        "early_stop = EarlyStopping(monitor='val_loss', min_delta=1e-10, patience=10, verbose=1)\n",
        "reduce_LR = ReduceLROnPlateau(monitor='val_loss', factor=0.5, patience=5, verbose=1)\n",
        "checkpoint = ModelCheckpoint(filepath='weights.h5', monitor='val_loss', verbose=1, save_best_only=True, save_weights_only=True)\n",
        "tb = TensorBoard('logs')"
      ],
      "execution_count": null,
      "outputs": []
    },
    {
      "cell_type": "code",
      "metadata": {
        "colab": {
          "base_uri": "https://localhost:8080/"
        },
        "id": "Es3uPHLMGVNT",
        "outputId": "734740c8-f245-4b8c-c238-ca5ca593278f"
      },
      "source": [
        "history = classifier_B.fit(X_train, Y_train, validation_data=(X_test,Y_test), shuffle=True, epochs=100,\n",
        "                        callbacks=[early_stop, reduce_LR, checkpoint, tb], verbose=1, batch_size=64)"
      ],
      "execution_count": null,
      "outputs": [
        {
          "output_type": "stream",
          "name": "stdout",
          "text": [
            "Epoch 1/100\n",
            "22/25 [=========================>....] - ETA: 0s - loss: 2.4006 - accuracy: 0.4581\n",
            "Epoch 00001: val_loss improved from inf to 1.79259, saving model to weights.h5\n",
            "25/25 [==============================] - 11s 96ms/step - loss: 2.3518 - accuracy: 0.4580 - val_loss: 1.7926 - val_accuracy: 0.4496 - lr: 0.0010\n",
            "Epoch 2/100\n",
            "25/25 [==============================] - ETA: 0s - loss: 1.4024 - accuracy: 0.4580\n",
            "Epoch 00002: val_loss improved from 1.79259 to 0.97423, saving model to weights.h5\n",
            "25/25 [==============================] - 0s 14ms/step - loss: 1.4024 - accuracy: 0.4580 - val_loss: 0.9742 - val_accuracy: 0.4496 - lr: 0.0010\n",
            "Epoch 3/100\n",
            "22/25 [=========================>....] - ETA: 0s - loss: 0.7856 - accuracy: 0.4972\n",
            "Epoch 00003: val_loss improved from 0.97423 to 0.69105, saving model to weights.h5\n",
            "25/25 [==============================] - 0s 13ms/step - loss: 0.7819 - accuracy: 0.4974 - val_loss: 0.6910 - val_accuracy: 0.5504 - lr: 0.0010\n",
            "Epoch 4/100\n",
            "24/25 [===========================>..] - ETA: 0s - loss: 0.7311 - accuracy: 0.5000\n",
            "Epoch 00004: val_loss did not improve from 0.69105\n",
            "25/25 [==============================] - 0s 13ms/step - loss: 0.7306 - accuracy: 0.5000 - val_loss: 0.6942 - val_accuracy: 0.4935 - lr: 0.0010\n",
            "Epoch 5/100\n",
            "24/25 [===========================>..] - ETA: 0s - loss: 0.7297 - accuracy: 0.5000\n",
            "Epoch 00005: val_loss did not improve from 0.69105\n",
            "25/25 [==============================] - 0s 12ms/step - loss: 0.7299 - accuracy: 0.4987 - val_loss: 0.6976 - val_accuracy: 0.4341 - lr: 0.0010\n",
            "Epoch 6/100\n",
            "25/25 [==============================] - ETA: 0s - loss: 0.7196 - accuracy: 0.4909\n",
            "Epoch 00006: val_loss did not improve from 0.69105\n",
            "25/25 [==============================] - 0s 11ms/step - loss: 0.7196 - accuracy: 0.4909 - val_loss: 0.6955 - val_accuracy: 0.4367 - lr: 0.0010\n",
            "Epoch 7/100\n",
            "24/25 [===========================>..] - ETA: 0s - loss: 0.7318 - accuracy: 0.4896\n",
            "Epoch 00007: val_loss did not improve from 0.69105\n",
            "25/25 [==============================] - 0s 12ms/step - loss: 0.7329 - accuracy: 0.4890 - val_loss: 0.7027 - val_accuracy: 0.4444 - lr: 0.0010\n",
            "Epoch 8/100\n",
            "21/25 [========================>.....] - ETA: 0s - loss: 0.7236 - accuracy: 0.4859\n",
            "Epoch 00008: val_loss improved from 0.69105 to 0.69036, saving model to weights.h5\n",
            "25/25 [==============================] - 0s 14ms/step - loss: 0.7248 - accuracy: 0.4851 - val_loss: 0.6904 - val_accuracy: 0.5504 - lr: 0.0010\n",
            "Epoch 9/100\n",
            "22/25 [=========================>....] - ETA: 0s - loss: 0.7256 - accuracy: 0.4936\n",
            "Epoch 00009: val_loss did not improve from 0.69036\n",
            "25/25 [==============================] - 0s 12ms/step - loss: 0.7239 - accuracy: 0.4981 - val_loss: 0.6928 - val_accuracy: 0.5478 - lr: 0.0010\n",
            "Epoch 10/100\n",
            "21/25 [========================>.....] - ETA: 0s - loss: 0.7154 - accuracy: 0.5000\n",
            "Epoch 00010: val_loss did not improve from 0.69036\n",
            "25/25 [==============================] - 0s 12ms/step - loss: 0.7156 - accuracy: 0.5019 - val_loss: 0.6913 - val_accuracy: 0.5504 - lr: 0.0010\n",
            "Epoch 11/100\n",
            "22/25 [=========================>....] - ETA: 0s - loss: 0.7212 - accuracy: 0.5000\n",
            "Epoch 00011: val_loss did not improve from 0.69036\n",
            "25/25 [==============================] - 0s 12ms/step - loss: 0.7230 - accuracy: 0.4935 - val_loss: 0.6934 - val_accuracy: 0.5065 - lr: 0.0010\n",
            "Epoch 12/100\n",
            "23/25 [==========================>...] - ETA: 0s - loss: 0.7207 - accuracy: 0.4986\n",
            "Epoch 00012: val_loss did not improve from 0.69036\n",
            "25/25 [==============================] - 0s 12ms/step - loss: 0.7206 - accuracy: 0.4974 - val_loss: 0.7006 - val_accuracy: 0.4444 - lr: 0.0010\n",
            "Epoch 13/100\n",
            "24/25 [===========================>..] - ETA: 0s - loss: 0.7157 - accuracy: 0.5143\n",
            "Epoch 00013: val_loss improved from 0.69036 to 0.68961, saving model to weights.h5\n",
            "25/25 [==============================] - 0s 12ms/step - loss: 0.7153 - accuracy: 0.5149 - val_loss: 0.6896 - val_accuracy: 0.5504 - lr: 0.0010\n",
            "Epoch 14/100\n",
            "24/25 [===========================>..] - ETA: 0s - loss: 0.7274 - accuracy: 0.4954\n",
            "Epoch 00014: val_loss did not improve from 0.68961\n",
            "25/25 [==============================] - 0s 12ms/step - loss: 0.7283 - accuracy: 0.4935 - val_loss: 0.6950 - val_accuracy: 0.4341 - lr: 0.0010\n",
            "Epoch 15/100\n",
            "23/25 [==========================>...] - ETA: 0s - loss: 0.7137 - accuracy: 0.5143\n",
            "Epoch 00015: val_loss did not improve from 0.68961\n",
            "25/25 [==============================] - 0s 12ms/step - loss: 0.7135 - accuracy: 0.5142 - val_loss: 0.6965 - val_accuracy: 0.4341 - lr: 0.0010\n",
            "Epoch 16/100\n",
            "24/25 [===========================>..] - ETA: 0s - loss: 0.7156 - accuracy: 0.5020\n",
            "Epoch 00016: val_loss did not improve from 0.68961\n",
            "25/25 [==============================] - 0s 11ms/step - loss: 0.7160 - accuracy: 0.5026 - val_loss: 0.6904 - val_accuracy: 0.5504 - lr: 0.0010\n",
            "Epoch 17/100\n",
            "24/25 [===========================>..] - ETA: 0s - loss: 0.7072 - accuracy: 0.5280\n",
            "Epoch 00017: val_loss did not improve from 0.68961\n",
            "25/25 [==============================] - 0s 14ms/step - loss: 0.7068 - accuracy: 0.5298 - val_loss: 0.6923 - val_accuracy: 0.5504 - lr: 0.0010\n",
            "Epoch 18/100\n",
            "23/25 [==========================>...] - ETA: 0s - loss: 0.7183 - accuracy: 0.5048\n",
            "Epoch 00018: ReduceLROnPlateau reducing learning rate to 0.0005000000237487257.\n",
            "\n",
            "Epoch 00018: val_loss did not improve from 0.68961\n",
            "25/25 [==============================] - 0s 12ms/step - loss: 0.7194 - accuracy: 0.5065 - val_loss: 0.6911 - val_accuracy: 0.5504 - lr: 0.0010\n",
            "Epoch 19/100\n",
            "24/25 [===========================>..] - ETA: 0s - loss: 0.7159 - accuracy: 0.5124\n",
            "Epoch 00019: val_loss did not improve from 0.68961\n",
            "25/25 [==============================] - 0s 11ms/step - loss: 0.7158 - accuracy: 0.5116 - val_loss: 0.6936 - val_accuracy: 0.4987 - lr: 5.0000e-04\n",
            "Epoch 20/100\n",
            "25/25 [==============================] - ETA: 0s - loss: 0.7139 - accuracy: 0.4799\n",
            "Epoch 00020: val_loss did not improve from 0.68961\n",
            "25/25 [==============================] - 0s 11ms/step - loss: 0.7139 - accuracy: 0.4799 - val_loss: 0.6926 - val_accuracy: 0.5504 - lr: 5.0000e-04\n",
            "Epoch 21/100\n",
            "24/25 [===========================>..] - ETA: 0s - loss: 0.7056 - accuracy: 0.5221\n",
            "Epoch 00021: val_loss did not improve from 0.68961\n",
            "25/25 [==============================] - 0s 12ms/step - loss: 0.7058 - accuracy: 0.5220 - val_loss: 0.6917 - val_accuracy: 0.5504 - lr: 5.0000e-04\n",
            "Epoch 22/100\n",
            "23/25 [==========================>...] - ETA: 0s - loss: 0.7157 - accuracy: 0.4891\n",
            "Epoch 00022: val_loss did not improve from 0.68961\n",
            "25/25 [==============================] - 0s 13ms/step - loss: 0.7154 - accuracy: 0.4909 - val_loss: 0.6909 - val_accuracy: 0.5504 - lr: 5.0000e-04\n",
            "Epoch 23/100\n",
            "25/25 [==============================] - ETA: 0s - loss: 0.7131 - accuracy: 0.5181\n",
            "Epoch 00023: ReduceLROnPlateau reducing learning rate to 0.0002500000118743628.\n",
            "\n",
            "Epoch 00023: val_loss did not improve from 0.68961\n",
            "25/25 [==============================] - 0s 13ms/step - loss: 0.7131 - accuracy: 0.5181 - val_loss: 0.6918 - val_accuracy: 0.5504 - lr: 5.0000e-04\n",
            "Epoch 00023: early stopping\n"
          ]
        }
      ]
    },
    {
      "cell_type": "code",
      "metadata": {
        "colab": {
          "base_uri": "https://localhost:8080/"
        },
        "id": "Y1P43rX-MVvW",
        "outputId": "0c237c61-a66f-487b-aca5-b5bcff77a125"
      },
      "source": [
        "print(classifier_B.evaluate(X_test, Y_test))"
      ],
      "execution_count": null,
      "outputs": [
        {
          "output_type": "stream",
          "name": "stdout",
          "text": [
            "13/13 [==============================] - 0s 3ms/step - loss: 0.6918 - accuracy: 0.5504\n",
            "[0.6918143630027771, 0.5503876209259033]\n"
          ]
        }
      ]
    },
    {
      "cell_type": "code",
      "metadata": {
        "colab": {
          "base_uri": "https://localhost:8080/",
          "height": 281
        },
        "id": "KNx9eQBXVkNJ",
        "outputId": "f8bb5f17-30d0-4746-c01e-aa0627e29e92"
      },
      "source": [
        "plt.plot(history.history['loss'], color = 'red', label = 'Train Loss')\n",
        "plt.plot(history.history['val_loss'], color = 'blue', label = 'Test Loss')\n",
        "plt.title('Loss')\n",
        "plt.legend()\n",
        "plt.show()"
      ],
      "execution_count": null,
      "outputs": [
        {
          "output_type": "display_data",
          "data": {
            "image/png": "[encoded data removed]",
            "text/plain": [
              "<Figure size 432x288 with 1 Axes>"
            ]
          },
          "metadata": {
            "needs_background": "light"
          }
        }
      ]
    },
    {
      "cell_type": "code",
      "metadata": {
        "colab": {
          "base_uri": "https://localhost:8080/",
          "height": 281
        },
        "id": "EL5nL1Y7XYfC",
        "outputId": "8be4f05b-34a1-4e99-aa1e-d66b00553d62"
      },
      "source": [
        "plt.plot(history.history['accuracy'], color = 'red', label = 'Train Accuracy')\n",
        "plt.plot(history.history['val_accuracy'], color = 'blue', label = 'Test Accuracy')\n",
        "plt.title('Accuracy')\n",
        "plt.legend()\n",
        "plt.show()"
      ],
      "execution_count": null,
      "outputs": [
        {
          "output_type": "display_data",
          "data": {
            "image/png": "[encoded data removed]",
            "text/plain": [
              "<Figure size 432x288 with 1 Axes>"
            ]
          },
          "metadata": {
            "needs_background": "light"
          }
        }
      ]
    }
  ]
}